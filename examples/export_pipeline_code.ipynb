{
 "cells": [
  {
   "cell_type": "code",
   "execution_count": 1,
   "metadata": {},
   "outputs": [],
   "source": [
    "from d3m_interface import AutoML"
   ]
  },
  {
   "cell_type": "markdown",
   "metadata": {},
   "source": [
    "### Generating pipelines"
   ]
  },
  {
   "cell_type": "code",
   "execution_count": 2,
   "metadata": {},
   "outputs": [
    {
     "name": "stdout",
     "output_type": "stream",
     "text": [
      "INFO: Initializing AlphaD3M AutoML...\n",
      "INFO: AlphaD3M AutoML initialized!\n",
      "INFO: Found pipeline id=87e725e9-09ac-4fa1-bf37-b96f3e101dbb, time=0:00:20.347129, scoring...\n",
      "INFO: Scored pipeline id=87e725e9-09ac-4fa1-bf37-b96f3e101dbb, f1_macro=0.64214\n",
      "INFO: Found pipeline id=c6384850-c1f3-42cf-8b3c-cad174a0595c, time=0:00:35.742241, scoring...\n",
      "INFO: Scored pipeline id=c6384850-c1f3-42cf-8b3c-cad174a0595c, f1_macro=0.61677\n",
      "INFO: Found pipeline id=279e8c54-4d3b-4a46-9a32-8321a66e899a, time=0:00:51.113531, scoring...\n",
      "INFO: Search completed, still scoring some pending pipelines...\n",
      "INFO: Scored pipeline id=279e8c54-4d3b-4a46-9a32-8321a66e899a, f1_macro=0.71535\n",
      "INFO: Scoring completed for all pipelines!\n"
     ]
    }
   ],
   "source": [
    "output_path = '/Users/rlopez/D3M/examples/tmp/'\n",
    "train_dataset = '/Users/rlopez/D3M/examples/185_baseball/TRAIN'\n",
    "test_dataset = '/Users/rlopez/D3M/examples/185_baseball/TEST'\n",
    "score_dataset = '/Users/rlopez/D3M/examples/185_baseball/SCORE'\n",
    "\n",
    "automl = AutoML(output_path, 'AlphaD3M')\n",
    "pipelines = automl.search_pipelines(train_dataset, time_bound=1)"
   ]
  },
  {
   "cell_type": "code",
   "execution_count": 3,
   "metadata": {},
   "outputs": [
    {
     "data": {
      "text/html": [
       "<div>\n",
       "<style scoped>\n",
       "    .dataframe tbody tr th:only-of-type {\n",
       "        vertical-align: middle;\n",
       "    }\n",
       "\n",
       "    .dataframe tbody tr th {\n",
       "        vertical-align: top;\n",
       "    }\n",
       "\n",
       "    .dataframe thead th {\n",
       "        text-align: right;\n",
       "    }\n",
       "</style>\n",
       "<table border=\"1\" class=\"dataframe\">\n",
       "  <thead>\n",
       "    <tr style=\"text-align: right;\">\n",
       "      <th></th>\n",
       "      <th>ranking</th>\n",
       "      <th>id</th>\n",
       "      <th>summary</th>\n",
       "      <th>f1_macro</th>\n",
       "    </tr>\n",
       "  </thead>\n",
       "  <tbody>\n",
       "    <tr>\n",
       "      <th>0</th>\n",
       "      <td>1</td>\n",
       "      <td>279e8c54-4d3b-4a46-9a32-8321a66e899a</td>\n",
       "      <td>imputer.sklearn, encoder.dsbox, gradient_boosting.sklearn</td>\n",
       "      <td>0.71535</td>\n",
       "    </tr>\n",
       "    <tr>\n",
       "      <th>1</th>\n",
       "      <td>2</td>\n",
       "      <td>87e725e9-09ac-4fa1-bf37-b96f3e101dbb</td>\n",
       "      <td>imputer.sklearn, encoder.dsbox, random_forest.sklearn</td>\n",
       "      <td>0.64214</td>\n",
       "    </tr>\n",
       "    <tr>\n",
       "      <th>2</th>\n",
       "      <td>3</td>\n",
       "      <td>c6384850-c1f3-42cf-8b3c-cad174a0595c</td>\n",
       "      <td>imputer.sklearn, encoder.dsbox, extra_trees.sklearn</td>\n",
       "      <td>0.61677</td>\n",
       "    </tr>\n",
       "  </tbody>\n",
       "</table>\n",
       "</div>"
      ],
      "text/plain": [
       "   ranking                                    id  \\\n",
       "0        1  279e8c54-4d3b-4a46-9a32-8321a66e899a   \n",
       "1        2  87e725e9-09ac-4fa1-bf37-b96f3e101dbb   \n",
       "2        3  c6384850-c1f3-42cf-8b3c-cad174a0595c   \n",
       "\n",
       "                                                     summary  f1_macro  \n",
       "0  imputer.sklearn, encoder.dsbox, gradient_boosting.sklearn   0.71535  \n",
       "1      imputer.sklearn, encoder.dsbox, random_forest.sklearn   0.64214  \n",
       "2        imputer.sklearn, encoder.dsbox, extra_trees.sklearn   0.61677  "
      ]
     },
     "execution_count": 3,
     "metadata": {},
     "output_type": "execute_result"
    }
   ],
   "source": [
    "automl.leaderboard"
   ]
  },
  {
   "cell_type": "code",
   "execution_count": 4,
   "metadata": {},
   "outputs": [
    {
     "data": {
      "text/plain": [
       "('f1_macro', 0.64322)"
      ]
     },
     "execution_count": 4,
     "metadata": {},
     "output_type": "execute_result"
    }
   ],
   "source": [
    "automl.score('279e8c54-4d3b-4a46-9a32-8321a66e899a', score_dataset)"
   ]
  },
  {
   "cell_type": "code",
   "execution_count": 5,
   "metadata": {},
   "outputs": [],
   "source": [
    "automl.export_pipeline_code('279e8c54-4d3b-4a46-9a32-8321a66e899a')"
   ]
  },
  {
   "cell_type": "code",
   "execution_count": 6,
   "metadata": {},
   "outputs": [],
   "source": [
    "from d3m_interface.pipeline import Pipeline\n",
    "\n",
    "pipeline = Pipeline()\n",
    "\n",
    "input_data = pipeline.make_pipeline_input()\n",
    "\n",
    "step_0 = pipeline.make_pipeline_step('d3m.primitives.data_transformation.denormalize.Common')\n",
    "pipeline.connect(input_data, step_0, from_output='dataset')\n",
    "\n",
    "step_1 = pipeline.make_pipeline_step('d3m.primitives.data_transformation.dataset_to_dataframe.Common')\n",
    "pipeline.connect(step_0, step_1)\n",
    "\n",
    "step_2 = pipeline.make_pipeline_step('d3m.primitives.data_transformation.column_parser.Common')\n",
    "pipeline.connect(step_1, step_2)\n",
    "\n",
    "step_3 = pipeline.make_pipeline_step('d3m.primitives.data_transformation.extract_columns_by_semantic_types.Common')\n",
    "pipeline.set_hyperparams(step_3, exclude_columns=[], semantic_types=['https://metadata.datadrivendiscovery.org/types/Attribute'])\n",
    "pipeline.connect(step_2, step_3)\n",
    "\n",
    "step_4 = pipeline.make_pipeline_step('d3m.primitives.data_cleaning.imputer.SKlearn')\n",
    "pipeline.set_hyperparams(step_4, strategy='most_frequent')\n",
    "pipeline.connect(step_3, step_4)\n",
    "\n",
    "step_5 = pipeline.make_pipeline_step('d3m.primitives.data_preprocessing.encoder.DSBOX')\n",
    "pipeline.set_hyperparams(step_5, n_limit=50)\n",
    "pipeline.connect(step_4, step_5)\n",
    "\n",
    "step_6 = pipeline.make_pipeline_step('d3m.primitives.data_transformation.extract_columns_by_semantic_types.Common')\n",
    "pipeline.set_hyperparams(step_6, semantic_types=['https://metadata.datadrivendiscovery.org/types/TrueTarget'])\n",
    "pipeline.connect(step_1, step_6)\n",
    "\n",
    "step_7 = pipeline.make_pipeline_step('d3m.primitives.classification.gradient_boosting.SKlearn')\n",
    "pipeline.connect(step_5, step_7)\n",
    "pipeline.connect(step_6, step_7, to_input='outputs')\n",
    "\n",
    "step_8 = pipeline.make_pipeline_step('d3m.primitives.data_transformation.construct_predictions.Common')\n",
    "pipeline.connect(step_1, step_8, to_input='reference')\n",
    "pipeline.connect(step_7, step_8)\n"
   ]
  },
  {
   "cell_type": "code",
   "execution_count": 7,
   "metadata": {},
   "outputs": [
    {
     "data": {
      "text/plain": [
       "('f1_macro', 0.64322)"
      ]
     },
     "execution_count": 7,
     "metadata": {},
     "output_type": "execute_result"
    }
   ],
   "source": [
    "automl.score(pipeline, score_dataset)"
   ]
  },
  {
   "cell_type": "code",
   "execution_count": 8,
   "metadata": {},
   "outputs": [
    {
     "name": "stdout",
     "output_type": "stream",
     "text": [
      "INFO: Ending session...\n",
      "INFO: Session ended!\n"
     ]
    }
   ],
   "source": [
    "automl.end_session()"
   ]
  },
  {
   "cell_type": "code",
   "execution_count": null,
   "metadata": {},
   "outputs": [],
   "source": []
  }
 ],
 "metadata": {
  "kernelspec": {
   "display_name": "Python 3",
   "language": "python",
   "name": "python3"
  },
  "language_info": {
   "codemirror_mode": {
    "name": "ipython",
    "version": 3
   },
   "file_extension": ".py",
   "mimetype": "text/x-python",
   "name": "python",
   "nbconvert_exporter": "python",
   "pygments_lexer": "ipython3",
   "version": "3.6.5"
  }
 },
 "nbformat": 4,
 "nbformat_minor": 2
}
