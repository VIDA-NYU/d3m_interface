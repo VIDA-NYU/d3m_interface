{
 "cells": [
  {
   "cell_type": "code",
   "execution_count": 1,
   "metadata": {},
   "outputs": [],
   "source": [
    "from d3m_interface.data_converter import export_pipeline_code"
   ]
  },
  {
   "cell_type": "code",
   "execution_count": 2,
   "metadata": {},
   "outputs": [],
   "source": [
    "import json\n",
    "\n",
    "with open('/home/raoni/reps/d3m/ta2/resource/pipelines/example_metalearningdb.json') as f:\n",
    "    pipeline_template = json.load(f)"
   ]
  },
  {
   "cell_type": "code",
   "execution_count": 3,
   "metadata": {},
   "outputs": [],
   "source": [
    "code = export_pipeline_code(pipeline_template, True)"
   ]
  },
  {
   "cell_type": "code",
   "execution_count": 4,
   "metadata": {},
   "outputs": [
    {
     "name": "stdout",
     "output_type": "stream",
     "text": [
      "INFO: Connecting to SQL database\n",
      "WARNING: The tables don't seem to exist; creating\n"
     ]
    }
   ],
   "source": [
    "\n",
    "from d3m_interface.data_converter import connect, make_data_module, make_pipeline_module, set_hyperparams  \n",
    "from d3m_interface.database import Pipeline, get_session\n",
    "db = get_session()\n",
    "pipeline = Pipeline(origin='export', dataset='dataset')\n",
    "input_data = make_data_module(db, pipeline)\n",
    "\n",
    "step_0 = make_pipeline_module(db, pipeline,'d3m.primitives.data_transformation.denormalize.Common')\n",
    "\n",
    "connect(db, pipeline,input_data, step_0, from_output='dataset')\n",
    "\n",
    "step_1 = make_pipeline_module(db, pipeline,'d3m.primitives.data_transformation.dataset_to_dataframe.Common')\n",
    "\n",
    "connect(db, pipeline,step_0, step_1, from_output='produce', to_input='inputs')\n",
    "\n",
    "connect(db, pipeline,step_0, step_1, from_output='index', to_input='index')\n",
    "\n",
    "step_2 = make_pipeline_module(db, pipeline,'d3m.primitives.data_transformation.add_semantic_types.Common')\n",
    "\n",
    "hyperparams = {}\n",
    "\n",
    "hyperparams['columns'] = {'type':'VALUE' ,'data':[1]}\n",
    "\n",
    "hyperparams['semantic_types'] = {'type':'VALUE' ,'data':['https://metadata.datadrivendiscovery.org/types/Attribute']}\n",
    "\n",
    "set_hyperparams(db, pipeline,step_2, **hyperparams)\n",
    "\n",
    "connect(db, pipeline,step_1, step_2, from_output='produce', to_input='inputs')\n",
    "\n",
    "connect(db, pipeline,step_1, step_2, from_output='index', to_input='index')\n",
    "\n",
    "step_3 = make_pipeline_module(db, pipeline,'d3m.primitives.data_transformation.add_semantic_types.Common')\n",
    "\n",
    "hyperparams = {}\n",
    "\n",
    "hyperparams['columns'] = {'type':'VALUE' ,'data':[1]}\n",
    "\n",
    "hyperparams['semantic_types'] = {'type':'VALUE' ,'data':['http://schema.org/Text']}\n",
    "\n",
    "set_hyperparams(db, pipeline,step_3, **hyperparams)\n",
    "\n",
    "connect(db, pipeline,step_2, step_3, from_output='produce', to_input='inputs')\n",
    "\n",
    "connect(db, pipeline,step_2, step_3, from_output='index', to_input='index')\n",
    "\n",
    "step_4 = make_pipeline_module(db, pipeline,'d3m.primitives.data_transformation.add_semantic_types.Common')\n",
    "\n",
    "hyperparams = {}\n",
    "\n",
    "hyperparams['columns'] = {'type':'VALUE' ,'data':[2]}\n",
    "\n",
    "hyperparams['semantic_types'] = {'type':'VALUE' ,'data':['http://schema.org/Integer']}\n",
    "\n",
    "set_hyperparams(db, pipeline,step_4, **hyperparams)\n",
    "\n",
    "connect(db, pipeline,step_3, step_4, from_output='produce', to_input='inputs')\n",
    "\n",
    "connect(db, pipeline,step_3, step_4, from_output='index', to_input='index')\n",
    "\n",
    "step_5 = make_pipeline_module(db, pipeline,'d3m.primitives.data_transformation.add_semantic_types.Common')\n",
    "\n",
    "hyperparams = {}\n",
    "\n",
    "hyperparams['columns'] = {'type':'VALUE' ,'data':[2]}\n",
    "\n",
    "hyperparams['semantic_types'] = {'type':'VALUE' ,'data':['https://metadata.datadrivendiscovery.org/types/TrueTarget']}\n",
    "\n",
    "set_hyperparams(db, pipeline,step_5, **hyperparams)\n",
    "\n",
    "connect(db, pipeline,step_4, step_5, from_output='produce', to_input='inputs')\n",
    "\n",
    "connect(db, pipeline,step_4, step_5, from_output='index', to_input='index')\n",
    "\n",
    "step_6 = make_pipeline_module(db, pipeline,'d3m.primitives.data_transformation.extract_columns_by_semantic_types.Common')\n",
    "\n",
    "hyperparams = {}\n",
    "\n",
    "hyperparams['semantic_types'] = {'type':'VALUE' ,'data':['https://metadata.datadrivendiscovery.org/types/TrueTarget']}\n",
    "\n",
    "set_hyperparams(db, pipeline,step_6, **hyperparams)\n",
    "\n",
    "connect(db, pipeline,step_5, step_6, from_output='produce', to_input='inputs')\n",
    "\n",
    "connect(db, pipeline,step_5, step_6, from_output='index', to_input='index')\n",
    "\n",
    "step_7 = make_pipeline_module(db, pipeline,'d3m.primitives.data_transformation.column_parser.Common')\n",
    "\n",
    "connect(db, pipeline,step_5, step_7, from_output='produce', to_input='inputs')\n",
    "\n",
    "connect(db, pipeline,step_6, step_7, from_output='index', to_input='index')\n",
    "\n",
    "step_8 = make_pipeline_module(db, pipeline,'d3m.primitives.data_transformation.extract_columns_by_semantic_types.Common')\n",
    "\n",
    "hyperparams = {}\n",
    "\n",
    "hyperparams['semantic_types'] = {'type':'VALUE' ,'data':['https://metadata.datadrivendiscovery.org/types/Attribute', 'https://metadata.datadrivendiscovery.org/types/PrimaryKey']}\n",
    "\n",
    "hyperparams['exclude_columns'] = {'type':'VALUE' ,'data':[]}\n",
    "\n",
    "set_hyperparams(db, pipeline,step_8, **hyperparams)\n",
    "\n",
    "connect(db, pipeline,step_7, step_8, from_output='produce', to_input='inputs')\n",
    "\n",
    "connect(db, pipeline,step_7, step_8, from_output='index', to_input='index')\n",
    "\n",
    "step_9 = make_pipeline_module(db, pipeline,'d3m.primitives.data_preprocessing.time_series_to_list.DSBOX')\n",
    "\n",
    "connect(db, pipeline,step_8, step_9, from_output='produce', to_input='inputs')\n",
    "\n",
    "connect(db, pipeline,step_8, step_9, from_output='index', to_input='index')\n",
    "\n",
    "step_10 = make_pipeline_module(db, pipeline,'d3m.primitives.feature_extraction.random_projection_timeseries_featurization.DSBOX')\n",
    "\n",
    "connect(db, pipeline,step_9, step_10, from_output='produce', to_input='inputs')\n",
    "\n",
    "connect(db, pipeline,step_9, step_10, from_output='index', to_input='index')\n",
    "\n",
    "step_11 = make_pipeline_module(db, pipeline,'d3m.primitives.classification.linear_discriminant_analysis.SKlearn')\n",
    "\n",
    "connect(db, pipeline,step_10, step_11, from_output='produce', to_input='inputs')\n",
    "\n",
    "connect(db, pipeline,step_6, step_11, from_output='produce', to_input='outputs')\n",
    "\n",
    "connect(db, pipeline,step_10, step_11, from_output='index', to_input='index')\n",
    "\n",
    "step_12 = make_pipeline_module(db, pipeline,'d3m.primitives.data_transformation.construct_predictions.Common')\n",
    "\n",
    "connect(db, pipeline,step_11, step_12, from_output='produce', to_input='inputs')\n",
    "\n",
    "connect(db, pipeline,step_5, step_12, from_output='produce', to_input='reference')\n",
    "\n",
    "connect(db, pipeline,step_11, step_12, from_output='index', to_input='index')\n",
    "\n",
    "db.add(pipeline)\n",
    "db.commit()\n"
   ]
  },
  {
   "cell_type": "code",
   "execution_count": 5,
   "metadata": {},
   "outputs": [],
   "source": [
    "from d3m_interface.data_converter import to_d3m_json"
   ]
  },
  {
   "cell_type": "code",
   "execution_count": 6,
   "metadata": {},
   "outputs": [
    {
     "name": "stdout",
     "output_type": "stream",
     "text": [
      "WARNING: While loading primitive 'data_transformation.denormalize.Common', an error has been detected: (d3m devel (/home/raoni/reps/sklearn-wrap/src/d3m), Requirement.parse('d3m>=2019.11.10'), {'datamart-isi'})\n",
      "WARNING: Attempting to load primitive 'data_transformation.denormalize.Common' without checking requirements.\n",
      "WARNING: While loading primitive 'data_transformation.dataset_to_dataframe.Common', an error has been detected: (d3m devel (/home/raoni/reps/sklearn-wrap/src/d3m), Requirement.parse('d3m>=2019.11.10'), {'datamart-isi'})\n",
      "WARNING: Attempting to load primitive 'data_transformation.dataset_to_dataframe.Common' without checking requirements.\n",
      "WARNING: While loading primitive 'data_transformation.add_semantic_types.Common', an error has been detected: (d3m devel (/home/raoni/reps/sklearn-wrap/src/d3m), Requirement.parse('d3m>=2019.11.10'), {'datamart-isi'})\n",
      "WARNING: Attempting to load primitive 'data_transformation.add_semantic_types.Common' without checking requirements.\n",
      "WARNING: While loading primitive 'data_transformation.extract_columns_by_semantic_types.Common', an error has been detected: (d3m devel (/home/raoni/reps/sklearn-wrap/src/d3m), Requirement.parse('d3m>=2019.11.10'), {'datamart-isi'})\n",
      "WARNING: Attempting to load primitive 'data_transformation.extract_columns_by_semantic_types.Common' without checking requirements.\n",
      "WARNING: While loading primitive 'data_transformation.column_parser.Common', an error has been detected: (d3m devel (/home/raoni/reps/sklearn-wrap/src/d3m), Requirement.parse('d3m>=2019.11.10'), {'datamart-isi'})\n",
      "WARNING: Attempting to load primitive 'data_transformation.column_parser.Common' without checking requirements.\n"
     ]
    },
    {
     "ename": "ModuleNotFoundError",
     "evalue": "No module named 'd3m.primitives.data_preprocessing.time_series_to_list'",
     "output_type": "error",
     "traceback": [
      "\u001b[0;31m---------------------------------------------------------------------------\u001b[0m",
      "\u001b[0;31mModuleNotFoundError\u001b[0m                       Traceback (most recent call last)",
      "\u001b[0;32m<ipython-input-6-c5f70e40936b>\u001b[0m in \u001b[0;36m<module>\u001b[0;34m\u001b[0m\n\u001b[1;32m      1\u001b[0m \u001b[0;31m# This will fail because we don't have the primitives installed in this environment\u001b[0m\u001b[0;34m\u001b[0m\u001b[0;34m\u001b[0m\u001b[0;34m\u001b[0m\u001b[0m\n\u001b[0;32m----> 2\u001b[0;31m \u001b[0md3m_json\u001b[0m \u001b[0;34m=\u001b[0m \u001b[0mto_d3m_json\u001b[0m\u001b[0;34m(\u001b[0m\u001b[0mpipeline\u001b[0m\u001b[0;34m)\u001b[0m\u001b[0;34m\u001b[0m\u001b[0;34m\u001b[0m\u001b[0m\n\u001b[0m",
      "\u001b[0;32m~/reps/d3m_interface/d3m_interface/data_converter.py\u001b[0m in \u001b[0;36mto_d3m_json\u001b[0;34m(pipeline)\u001b[0m\n\u001b[1;32m    324\u001b[0m     \u001b[0mmodule_to_step\u001b[0m \u001b[0;34m=\u001b[0m \u001b[0;34m{\u001b[0m\u001b[0;34m}\u001b[0m\u001b[0;34m\u001b[0m\u001b[0;34m\u001b[0m\u001b[0m\n\u001b[1;32m    325\u001b[0m     \u001b[0;32mfor\u001b[0m \u001b[0m_\u001b[0m\u001b[0;34m,\u001b[0m \u001b[0mmod\u001b[0m \u001b[0;32min\u001b[0m \u001b[0msorted\u001b[0m\u001b[0;34m(\u001b[0m\u001b[0mmodules\u001b[0m\u001b[0;34m.\u001b[0m\u001b[0mitems\u001b[0m\u001b[0;34m(\u001b[0m\u001b[0;34m)\u001b[0m\u001b[0;34m,\u001b[0m \u001b[0mkey\u001b[0m\u001b[0;34m=\u001b[0m\u001b[0;32mlambda\u001b[0m \u001b[0mx\u001b[0m\u001b[0;34m:\u001b[0m \u001b[0mx\u001b[0m\u001b[0;34m[\u001b[0m\u001b[0;36m0\u001b[0m\u001b[0;34m]\u001b[0m\u001b[0;34m)\u001b[0m\u001b[0;34m:\u001b[0m\u001b[0;34m\u001b[0m\u001b[0;34m\u001b[0m\u001b[0m\n\u001b[0;32m--> 326\u001b[0;31m         \u001b[0m_add_step\u001b[0m\u001b[0;34m(\u001b[0m\u001b[0msteps\u001b[0m\u001b[0;34m,\u001b[0m \u001b[0mmodules\u001b[0m\u001b[0;34m,\u001b[0m \u001b[0mparams\u001b[0m\u001b[0;34m,\u001b[0m \u001b[0mmodule_to_step\u001b[0m\u001b[0;34m,\u001b[0m \u001b[0mmod\u001b[0m\u001b[0;34m)\u001b[0m\u001b[0;34m\u001b[0m\u001b[0;34m\u001b[0m\u001b[0m\n\u001b[0m\u001b[1;32m    327\u001b[0m \u001b[0;34m\u001b[0m\u001b[0m\n\u001b[1;32m    328\u001b[0m     return {\n",
      "\u001b[0;32m~/reps/d3m_interface/d3m_interface/data_converter.py\u001b[0m in \u001b[0;36m_add_step\u001b[0;34m(steps, modules, params, module_to_step, mod)\u001b[0m\n\u001b[1;32m    247\u001b[0m \u001b[0;34m\u001b[0m\u001b[0m\n\u001b[1;32m    248\u001b[0m     \u001b[0;32mfor\u001b[0m \u001b[0mconn\u001b[0m \u001b[0;32min\u001b[0m \u001b[0msorted\u001b[0m\u001b[0;34m(\u001b[0m\u001b[0mmod\u001b[0m\u001b[0;34m.\u001b[0m\u001b[0mconnections_to\u001b[0m\u001b[0;34m,\u001b[0m \u001b[0mkey\u001b[0m\u001b[0;34m=\u001b[0m\u001b[0;32mlambda\u001b[0m \u001b[0mc\u001b[0m\u001b[0;34m:\u001b[0m \u001b[0mc\u001b[0m\u001b[0;34m.\u001b[0m\u001b[0mto_input_name\u001b[0m\u001b[0;34m)\u001b[0m\u001b[0;34m:\u001b[0m\u001b[0;34m\u001b[0m\u001b[0;34m\u001b[0m\u001b[0m\n\u001b[0;32m--> 249\u001b[0;31m         \u001b[0mstep\u001b[0m \u001b[0;34m=\u001b[0m \u001b[0m_add_step\u001b[0m\u001b[0;34m(\u001b[0m\u001b[0msteps\u001b[0m\u001b[0;34m,\u001b[0m \u001b[0mmodules\u001b[0m\u001b[0;34m,\u001b[0m \u001b[0mparams\u001b[0m\u001b[0;34m,\u001b[0m \u001b[0mmodule_to_step\u001b[0m\u001b[0;34m,\u001b[0m \u001b[0mmodules\u001b[0m\u001b[0;34m[\u001b[0m\u001b[0mconn\u001b[0m\u001b[0;34m.\u001b[0m\u001b[0mfrom_module_id\u001b[0m\u001b[0;34m]\u001b[0m\u001b[0;34m)\u001b[0m\u001b[0;34m\u001b[0m\u001b[0;34m\u001b[0m\u001b[0m\n\u001b[0m\u001b[1;32m    250\u001b[0m \u001b[0;34m\u001b[0m\u001b[0m\n\u001b[1;32m    251\u001b[0m         \u001b[0;31m# index is a special connection to keep the order of steps in fixed pipeline templates\u001b[0m\u001b[0;34m\u001b[0m\u001b[0;34m\u001b[0m\u001b[0;34m\u001b[0m\u001b[0m\n",
      "\u001b[0;32m~/reps/d3m_interface/d3m_interface/data_converter.py\u001b[0m in \u001b[0;36m_add_step\u001b[0;34m(steps, modules, params, module_to_step, mod)\u001b[0m\n\u001b[1;32m    264\u001b[0m                 \u001b[0minputs\u001b[0m\u001b[0;34m[\u001b[0m\u001b[0mconn\u001b[0m\u001b[0;34m.\u001b[0m\u001b[0mto_input_name\u001b[0m\u001b[0;34m]\u001b[0m \u001b[0;34m=\u001b[0m \u001b[0;34m'%s.%s'\u001b[0m \u001b[0;34m%\u001b[0m \u001b[0;34m(\u001b[0m\u001b[0mstep\u001b[0m\u001b[0;34m,\u001b[0m \u001b[0mconn\u001b[0m\u001b[0;34m.\u001b[0m\u001b[0mfrom_output_name\u001b[0m\u001b[0;34m)\u001b[0m\u001b[0;34m\u001b[0m\u001b[0;34m\u001b[0m\u001b[0m\n\u001b[1;32m    265\u001b[0m \u001b[0;34m\u001b[0m\u001b[0m\n\u001b[0;32m--> 266\u001b[0;31m     \u001b[0mklass\u001b[0m \u001b[0;34m=\u001b[0m \u001b[0mget_class\u001b[0m\u001b[0;34m(\u001b[0m\u001b[0mmod\u001b[0m\u001b[0;34m.\u001b[0m\u001b[0mname\u001b[0m\u001b[0;34m)\u001b[0m\u001b[0;34m\u001b[0m\u001b[0;34m\u001b[0m\u001b[0m\n\u001b[0m\u001b[1;32m    267\u001b[0m     primitive_desc = {\n\u001b[1;32m    268\u001b[0m         \u001b[0mkey\u001b[0m\u001b[0;34m:\u001b[0m \u001b[0mvalue\u001b[0m\u001b[0;34m\u001b[0m\u001b[0;34m\u001b[0m\u001b[0m\n",
      "\u001b[0;32m~/reps/d3m_interface/d3m_interface/data_converter.py\u001b[0m in \u001b[0;36mget_class\u001b[0;34m(name)\u001b[0m\n\u001b[1;32m    228\u001b[0m \u001b[0;32mdef\u001b[0m \u001b[0mget_class\u001b[0m\u001b[0;34m(\u001b[0m\u001b[0mname\u001b[0m\u001b[0;34m)\u001b[0m\u001b[0;34m:\u001b[0m\u001b[0;34m\u001b[0m\u001b[0;34m\u001b[0m\u001b[0m\n\u001b[1;32m    229\u001b[0m     \u001b[0mpackage\u001b[0m\u001b[0;34m,\u001b[0m \u001b[0mclassname\u001b[0m \u001b[0;34m=\u001b[0m \u001b[0mname\u001b[0m\u001b[0;34m.\u001b[0m\u001b[0mrsplit\u001b[0m\u001b[0;34m(\u001b[0m\u001b[0;34m'.'\u001b[0m\u001b[0;34m,\u001b[0m \u001b[0;36m1\u001b[0m\u001b[0;34m)\u001b[0m\u001b[0;34m\u001b[0m\u001b[0;34m\u001b[0m\u001b[0m\n\u001b[0;32m--> 230\u001b[0;31m     \u001b[0;32mreturn\u001b[0m \u001b[0mgetattr\u001b[0m\u001b[0;34m(\u001b[0m\u001b[0mimportlib\u001b[0m\u001b[0;34m.\u001b[0m\u001b[0mimport_module\u001b[0m\u001b[0;34m(\u001b[0m\u001b[0mpackage\u001b[0m\u001b[0;34m)\u001b[0m\u001b[0;34m,\u001b[0m \u001b[0mclassname\u001b[0m\u001b[0;34m)\u001b[0m\u001b[0;34m\u001b[0m\u001b[0;34m\u001b[0m\u001b[0m\n\u001b[0m\u001b[1;32m    231\u001b[0m \u001b[0;34m\u001b[0m\u001b[0m\n\u001b[1;32m    232\u001b[0m \u001b[0;34m\u001b[0m\u001b[0m\n",
      "\u001b[0;32m~/anaconda3/envs/py36/lib/python3.6/importlib/__init__.py\u001b[0m in \u001b[0;36mimport_module\u001b[0;34m(name, package)\u001b[0m\n\u001b[1;32m    124\u001b[0m                 \u001b[0;32mbreak\u001b[0m\u001b[0;34m\u001b[0m\u001b[0;34m\u001b[0m\u001b[0m\n\u001b[1;32m    125\u001b[0m             \u001b[0mlevel\u001b[0m \u001b[0;34m+=\u001b[0m \u001b[0;36m1\u001b[0m\u001b[0;34m\u001b[0m\u001b[0;34m\u001b[0m\u001b[0m\n\u001b[0;32m--> 126\u001b[0;31m     \u001b[0;32mreturn\u001b[0m \u001b[0m_bootstrap\u001b[0m\u001b[0;34m.\u001b[0m\u001b[0m_gcd_import\u001b[0m\u001b[0;34m(\u001b[0m\u001b[0mname\u001b[0m\u001b[0;34m[\u001b[0m\u001b[0mlevel\u001b[0m\u001b[0;34m:\u001b[0m\u001b[0;34m]\u001b[0m\u001b[0;34m,\u001b[0m \u001b[0mpackage\u001b[0m\u001b[0;34m,\u001b[0m \u001b[0mlevel\u001b[0m\u001b[0;34m)\u001b[0m\u001b[0;34m\u001b[0m\u001b[0;34m\u001b[0m\u001b[0m\n\u001b[0m\u001b[1;32m    127\u001b[0m \u001b[0;34m\u001b[0m\u001b[0m\n\u001b[1;32m    128\u001b[0m \u001b[0;34m\u001b[0m\u001b[0m\n",
      "\u001b[0;32m~/anaconda3/envs/py36/lib/python3.6/importlib/_bootstrap.py\u001b[0m in \u001b[0;36m_gcd_import\u001b[0;34m(name, package, level)\u001b[0m\n",
      "\u001b[0;32m~/anaconda3/envs/py36/lib/python3.6/importlib/_bootstrap.py\u001b[0m in \u001b[0;36m_find_and_load\u001b[0;34m(name, import_)\u001b[0m\n",
      "\u001b[0;32m~/anaconda3/envs/py36/lib/python3.6/importlib/_bootstrap.py\u001b[0m in \u001b[0;36m_find_and_load_unlocked\u001b[0;34m(name, import_)\u001b[0m\n",
      "\u001b[0;31mModuleNotFoundError\u001b[0m: No module named 'd3m.primitives.data_preprocessing.time_series_to_list'"
     ]
    }
   ],
   "source": [
    "# This will fail because we don't have the primitives installed in this environment\n",
    "d3m_json = to_d3m_json(pipeline)"
   ]
  },
  {
   "cell_type": "code",
   "execution_count": null,
   "metadata": {},
   "outputs": [],
   "source": []
  }
 ],
 "metadata": {
  "kernelspec": {
   "display_name": "Python 3",
   "language": "python",
   "name": "python3"
  },
  "language_info": {
   "codemirror_mode": {
    "name": "ipython",
    "version": 3
   },
   "file_extension": ".py",
   "mimetype": "text/x-python",
   "name": "python",
   "nbconvert_exporter": "python",
   "pygments_lexer": "ipython3",
   "version": "3.6.10"
  }
 },
 "nbformat": 4,
 "nbformat_minor": 4
}
