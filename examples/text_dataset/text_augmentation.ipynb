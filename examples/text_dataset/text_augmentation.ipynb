{
 "cells": [
  {
   "cell_type": "code",
   "execution_count": 1,
   "metadata": {},
   "outputs": [],
   "source": [
    "import numpy as np\n",
    "from d3m_interface import AutoML\n",
    "from text_augmentation import augment_dataset\n",
    "from active_learning import automatic_labeling, manual_labeling, dataframe_to_nparray\n",
    "\n",
    "RANDOM_STATE_SEED = 0"
   ]
  },
  {
   "cell_type": "code",
   "execution_count": 2,
   "metadata": {},
   "outputs": [],
   "source": [
    "output_path = '/Users/rlopez/D3M/examples/tmp/'\n",
    "train_dataset_path = '/Users/rlopez/D3M/examples/JIDO_SOHR_Articles_1061/TRAIN'\n",
    "test_dataset_path = '/Users/rlopez/D3M/examples/JIDO_SOHR_Articles_1061/TEST'\n",
    "score_dataset_path = '/Users/rlopez/D3M/examples/JIDO_SOHR_Articles_1061/SCORE'"
   ]
  },
  {
   "cell_type": "code",
   "execution_count": 3,
   "metadata": {},
   "outputs": [],
   "source": [
    "automl = AutoML(output_path, 'AlphaD3M')"
   ]
  },
  {
   "cell_type": "code",
   "execution_count": 4,
   "metadata": {},
   "outputs": [],
   "source": [
    "# Utils\n",
    "from sklearn.pipeline import Pipeline\n",
    "from sklearn.feature_extraction.text import TfidfVectorizer\n",
    "from sklearn.ensemble import GradientBoostingClassifier\n",
    "from sklearn.metrics import f1_score\n",
    "from d3m_interface.data_converter import d3mtext_to_dataframe\n",
    "import pandas as pd\n",
    "\n",
    "train_dataset = d3mtext_to_dataframe(train_dataset_path, 'article').head(5000)\n",
    "test_dataset = d3mtext_to_dataframe(score_dataset_path, 'article')\n",
    "\n",
    "def evaluate(train_dataset, test_dataset):\n",
    "    pipeline = Pipeline(\n",
    "                        steps = [\n",
    "                                ('tfidf', TfidfVectorizer()),\n",
    "                                ('classifier', GradientBoostingClassifier(random_state=RANDOM_STATE_SEED)),\n",
    "                            ]\n",
    "                        )\n",
    "    X_train, y_train = dataframe_to_nparray(train_dataset, 'article', 'articleofinterest')\n",
    "    X_test, y_test = dataframe_to_nparray(test_dataset, 'article', 'articleofinterest')\n",
    "    pipeline.fit(X_train, y_train)\n",
    "    predictions = pipeline.predict(X_test)\n",
    "    score = f1_score(y_test, predictions)\n",
    "    \n",
    "    return score\n",
    "\n",
    "def select_indices(labels, size, ratio=0.5):\n",
    "    positive_size = size * ratio\n",
    "    negative_size = size * (1 - ratio)\n",
    "    positive_indices = []\n",
    "    negative_indices = []\n",
    "    selected_indices = []\n",
    "    remaining_indices = []\n",
    "    \n",
    "    for index, label in enumerate(labels):\n",
    "        if label == 1 and len(positive_indices) < positive_size:\n",
    "            positive_indices.append(index)\n",
    "        elif label == 0 and len(negative_indices) < negative_size:\n",
    "            negative_indices.append(index)\n",
    "\n",
    "        if len(positive_indices) == positive_size and len(negative_indices) == negative_size:\n",
    "            break\n",
    "\n",
    "    selected_indices = positive_indices + negative_indices\n",
    "\n",
    "    for index in range(len(labels)):\n",
    "        if index not in selected_indices:\n",
    "            remaining_indices.append(index)\n",
    "    \n",
    "    return selected_indices, remaining_indices"
   ]
  },
  {
   "cell_type": "markdown",
   "metadata": {},
   "source": [
    "### Saving time in Manual Annotation"
   ]
  },
  {
   "cell_type": "code",
   "execution_count": 5,
   "metadata": {},
   "outputs": [],
   "source": [
    "initial_size = 100\n",
    "labeled_indices, unlabeled_indices = select_indices(train_dataset['articleofinterest'].to_list(), initial_size)\n",
    "initial_dataset = train_dataset.iloc[labeled_indices]\n",
    "unlabeled_dataset = train_dataset.iloc[unlabeled_indices]"
   ]
  },
  {
   "cell_type": "code",
   "execution_count": 6,
   "metadata": {},
   "outputs": [
    {
     "data": {
      "text/plain": [
       "0.6399540977335755"
      ]
     },
     "execution_count": 6,
     "metadata": {},
     "output_type": "execute_result"
    }
   ],
   "source": [
    "# Using initial dataset\n",
    "initial_score = evaluate(initial_dataset, test_dataset)\n",
    "initial_score"
   ]
  },
  {
   "cell_type": "markdown",
   "metadata": {},
   "source": [
    "### Data Augmentation"
   ]
  },
  {
   "cell_type": "code",
   "execution_count": 7,
   "metadata": {},
   "outputs": [
    {
     "name": "stdout",
     "output_type": "stream",
     "text": [
      "Original training set size: 100\n",
      "Augmented training set size: 200\n"
     ]
    },
    {
     "data": {
      "text/plain": [
       "0.6525375403915605"
      ]
     },
     "execution_count": 7,
     "metadata": {},
     "output_type": "execute_result"
    }
   ],
   "source": [
    "np.random.seed(RANDOM_STATE_SEED)\n",
    "augmented_dataset = augment_dataset(initial_dataset, 'article')\n",
    "augmented_score = evaluate(augmented_dataset, test_dataset)\n",
    "augmented_score"
   ]
  },
  {
   "cell_type": "markdown",
   "metadata": {},
   "source": [
    "### Active Learning"
   ]
  },
  {
   "cell_type": "code",
   "execution_count": 8,
   "metadata": {},
   "outputs": [
    {
     "data": {
      "text/html": [
       "<table border=\"1\" class=\"dataframe\">\n",
       "  <thead>\n",
       "    <tr style=\"text-align: right;\">\n",
       "      <th>Text</th>\n",
       "    </tr>\n",
       "  </thead>\n",
       "  <tbody>\n",
       "    <tr>\n",
       "      <td>8 casualties and wounded at least in an explosion of a grenade in Salamiyah city and the fall of shells on areas in Daraa city  Hama Province – The Syrian Observatory for Human Rights: an explosion was heard in Salamiyah city which is controlled by the regime force in the eastern countryside of Hama, caused by a grenade thrown by a fighter of the city, which resulted in the death of a citizen and the injury of 4 others one of them has seriously wounded, without information about the reasons of the incident and its circumstances.  Daraa Province – The Syrian Observatory for Human Rights: explosions rocked areas in Daraa city, caused by the fall of shells on the controlled areas of the regime forces in Daraa city, which resulted in the injury of 3 persons at least, including two children, and the regime forces shelled areas in Daraa Camp in the outskirts of the city, and no information about casualties was reported.</td>\n",
       "    </tr>\n",
       "  </tbody>\n",
       "</table>"
      ],
      "text/plain": [
       "<IPython.core.display.HTML object>"
      ]
     },
     "metadata": {},
     "output_type": "display_data"
    },
    {
     "data": {
      "image/png": "[encoded data removed]",
      "text/plain": [
       "<Figure size 576x288 with 1 Axes>"
      ]
     },
     "metadata": {},
     "output_type": "display_data"
    },
    {
     "name": "stdout",
     "output_type": "stream",
     "text": [
      "Which class is this text?\n",
      "exit\n"
     ]
    }
   ],
   "source": [
    "active_learning_dataset = manual_labeling(initial_dataset, unlabeled_dataset, train_dataset)"
   ]
  },
  {
   "cell_type": "code",
   "execution_count": 9,
   "metadata": {},
   "outputs": [
    {
     "name": "stdout",
     "output_type": "stream",
     "text": [
      "F1 before queries: 0.6174\n",
      "F1 after query 1: 0.6105\n",
      "F1 after query 2: 0.6061\n",
      "F1 after query 3: 0.6050\n",
      "F1 after query 4: 0.6203\n",
      "F1 after query 5: 0.6241\n",
      "F1 after query 6: 0.6278\n",
      "F1 after query 7: 0.6252\n",
      "F1 after query 8: 0.6294\n",
      "F1 after query 9: 0.6238\n",
      "F1 after query 10: 0.6372\n",
      "F1 after query 11: 0.6346\n",
      "F1 after query 12: 0.6293\n",
      "F1 after query 13: 0.6368\n",
      "F1 after query 14: 0.6459\n",
      "F1 after query 15: 0.6437\n",
      "F1 after query 16: 0.6527\n",
      "F1 after query 17: 0.6537\n",
      "F1 after query 18: 0.6577\n",
      "F1 after query 19: 0.6549\n",
      "F1 after query 20: 0.6510\n",
      "F1 after query 21: 0.6482\n",
      "F1 after query 22: 0.6829\n",
      "F1 after query 23: 0.6980\n",
      "F1 after query 24: 0.6954\n",
      "F1 after query 25: 0.6765\n",
      "F1 after query 26: 0.6800\n",
      "F1 after query 27: 0.6433\n",
      "F1 after query 28: 0.6377\n",
      "F1 after query 29: 0.6318\n",
      "F1 after query 30: 0.6345\n",
      "F1 after query 31: 0.6628\n",
      "F1 after query 32: 0.5992\n",
      "F1 after query 33: 0.5389\n",
      "F1 after query 34: 0.5598\n",
      "F1 after query 35: 0.5900\n",
      "F1 after query 36: 0.6110\n",
      "F1 after query 37: 0.6284\n",
      "F1 after query 38: 0.6138\n",
      "F1 after query 39: 0.6303\n",
      "F1 after query 40: 0.6338\n",
      "F1 after query 41: 0.6383\n",
      "F1 after query 42: 0.6110\n",
      "F1 after query 43: 0.6262\n",
      "F1 after query 44: 0.6364\n",
      "F1 after query 45: 0.6841\n",
      "F1 after query 46: 0.6893\n",
      "F1 after query 47: 0.6933\n",
      "F1 after query 48: 0.6838\n",
      "F1 after query 49: 0.6785\n",
      "F1 after query 50: 0.7096\n",
      "F1 after query 51: 0.7079\n",
      "F1 after query 52: 0.7095\n",
      "F1 after query 53: 0.7101\n",
      "F1 after query 54: 0.6902\n",
      "F1 after query 55: 0.7149\n",
      "F1 after query 56: 0.7079\n",
      "F1 after query 57: 0.7166\n",
      "F1 after query 58: 0.7179\n",
      "F1 after query 59: 0.7163\n",
      "F1 after query 60: 0.7926\n",
      "F1 after query 61: 0.7720\n",
      "F1 after query 62: 0.7685\n",
      "F1 after query 63: 0.7782\n",
      "F1 after query 64: 0.7747\n",
      "F1 after query 65: 0.7727\n",
      "F1 after query 66: 0.7977\n",
      "F1 after query 67: 0.7787\n",
      "F1 after query 68: 0.7842\n",
      "F1 after query 69: 0.8081\n",
      "F1 after query 70: 0.7949\n",
      "F1 after query 71: 0.8091\n",
      "F1 after query 72: 0.8135\n",
      "F1 after query 73: 0.8153\n",
      "F1 after query 74: 0.8116\n",
      "F1 after query 75: 0.8048\n",
      "F1 after query 76: 0.8044\n",
      "F1 after query 77: 0.8061\n",
      "F1 after query 78: 0.8284\n",
      "F1 after query 79: 0.8275\n",
      "F1 after query 80: 0.8247\n",
      "F1 after query 81: 0.8299\n",
      "F1 after query 82: 0.8350\n",
      "F1 after query 83: 0.8330\n",
      "F1 after query 84: 0.8230\n",
      "F1 after query 85: 0.8308\n",
      "F1 after query 86: 0.8305\n",
      "F1 after query 87: 0.8286\n",
      "F1 after query 88: 0.8343\n",
      "F1 after query 89: 0.8297\n",
      "F1 after query 90: 0.8312\n",
      "F1 after query 91: 0.8272\n",
      "F1 after query 92: 0.8290\n",
      "F1 after query 93: 0.8278\n",
      "F1 after query 94: 0.8333\n",
      "F1 after query 95: 0.8309\n",
      "F1 after query 96: 0.8333\n",
      "F1 after query 97: 0.8309\n",
      "F1 after query 98: 0.8348\n",
      "F1 after query 99: 0.8348\n",
      "F1 after query 100: 0.8465\n"
     ]
    },
    {
     "data": {
      "image/png": "[encoded data removed]",
      "text/plain": [
       "<Figure size 576x288 with 1 Axes>"
      ]
     },
     "metadata": {},
     "output_type": "display_data"
    }
   ],
   "source": [
    "active_learning_dataset = automatic_labeling(initial_dataset, unlabeled_dataset, train_dataset)"
   ]
  },
  {
   "cell_type": "code",
   "execution_count": 10,
   "metadata": {},
   "outputs": [
    {
     "data": {
      "text/plain": [
       "0.8820272572402045"
      ]
     },
     "execution_count": 10,
     "metadata": {},
     "output_type": "execute_result"
    }
   ],
   "source": [
    "active_learning_score = evaluate(active_learning_dataset, test_dataset)\n",
    "active_learning_score"
   ]
  },
  {
   "cell_type": "markdown",
   "metadata": {},
   "source": [
    "### Combined strategy (active learning + augmentation)"
   ]
  },
  {
   "cell_type": "code",
   "execution_count": 11,
   "metadata": {},
   "outputs": [
    {
     "name": "stdout",
     "output_type": "stream",
     "text": [
      "Original training set size: 200\n",
      "Augmented training set size: 400\n"
     ]
    },
    {
     "data": {
      "text/plain": [
       "0.8887480190174327"
      ]
     },
     "execution_count": 11,
     "metadata": {},
     "output_type": "execute_result"
    }
   ],
   "source": [
    "combined_dataset = augment_dataset(active_learning_dataset, 'article')\n",
    "combined_score = evaluate(combined_dataset, test_dataset)\n",
    "combined_score"
   ]
  },
  {
   "cell_type": "markdown",
   "metadata": {},
   "source": [
    "### Baseline (random selection)"
   ]
  },
  {
   "cell_type": "code",
   "execution_count": 12,
   "metadata": {},
   "outputs": [
    {
     "data": {
      "text/plain": [
       "0.8383757961783439"
      ]
     },
     "execution_count": 12,
     "metadata": {},
     "output_type": "execute_result"
    }
   ],
   "source": [
    "random_dataset = unlabeled_dataset.sample(n=100, random_state=RANDOM_STATE_SEED)\n",
    "random_dataset = pd.concat([initial_dataset, random_dataset])\n",
    "random_score = evaluate(random_dataset, test_dataset)\n",
    "random_score"
   ]
  },
  {
   "cell_type": "code",
   "execution_count": null,
   "metadata": {},
   "outputs": [],
   "source": []
  }
 ],
 "metadata": {
  "kernelspec": {
   "display_name": "Python 3",
   "language": "python",
   "name": "python3"
  },
  "language_info": {
   "codemirror_mode": {
    "name": "ipython",
    "version": 3
   },
   "file_extension": ".py",
   "mimetype": "text/x-python",
   "name": "python",
   "nbconvert_exporter": "python",
   "pygments_lexer": "ipython3",
   "version": "3.6.5"
  }
 },
 "nbformat": 4,
 "nbformat_minor": 2
}
