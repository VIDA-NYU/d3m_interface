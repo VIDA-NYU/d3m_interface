{
 "cells": [
  {
   "cell_type": "code",
   "execution_count": 1,
   "metadata": {},
   "outputs": [],
   "source": [
    "from d3m_interface import Automl\n",
    "import PipelineProfiler"
   ]
  },
  {
   "cell_type": "markdown",
   "metadata": {},
   "source": [
    "### Generating pipelines for CSV datasets"
   ]
  },
  {
   "cell_type": "code",
   "execution_count": 2,
   "metadata": {},
   "outputs": [
    {
     "name": "stdout",
     "output_type": "stream",
     "text": [
      "INFO: Reiceving a raw dataset, converting to D3M format\n",
      "WARNING: Task keywords not defined, using: [classification, multiClass]\n",
      "WARNING: Metric not defined, using: accuracy\n",
      "INFO: Initializing NYU TA2...\n",
      "INFO: NYU TA2 initialized!\n",
      "INFO: Found pipeline, id=dca71b67-b5b9-46c5-a695-f6fc18c52a46, accuracy=0.81319, time=0:00:28.923947\n",
      "INFO: Found pipeline, id=b7dfe6d8-2d4f-4d37-95b9-a227b460b5fd, accuracy=0.80208, time=0:00:47.196388\n",
      "INFO: Found pipeline, id=2fd8db73-7b15-48e8-a074-b3f6f306be08, accuracy=0.83333, time=0:01:02.351654\n",
      "INFO: Found pipeline, id=d96f4c10-8fe5-43a4-83be-43b1b40a1baf, accuracy=0.82778, time=0:01:23.628901\n",
      "INFO: Found pipeline, id=a8db0dd6-3b6e-4514-a3b1-4c4a3e0324f9, accuracy=0.64931, time=0:01:41.849793\n",
      "INFO: Found pipeline, id=c08037be-89dd-46c5-b55a-bddaa63c3e2b, accuracy=0.83333, time=0:01:56.994066\n",
      "INFO: Found pipeline, id=05787fe7-cc24-451c-a406-51518a514032, accuracy=0.78472, time=0:02:18.078309\n",
      "INFO: Found pipeline, id=cf5a02c5-2e11-43ef-8d35-ff2efc505b70, accuracy=0.74583, time=0:02:39.280134\n",
      "INFO: Found pipeline, id=59a60398-310b-4a8e-9e17-9865e2f22991, accuracy=0.80347, time=0:03:03.460723\n",
      "INFO: Found pipeline, id=449829ef-e369-4429-9d05-ab0d4feb1df8, accuracy=0.66181, time=0:03:33.671862\n",
      "INFO: Found pipeline, id=e9ad5295-d84f-4b77-bbbe-0eca124d8687, accuracy=0.83264, time=0:04:03.863059\n",
      "INFO: Found pipeline, id=bcb640d4-40f9-4505-8202-8b2a2ba59256, accuracy=0.30625, time=0:09:34.945609\n",
      "INFO: Found pipeline, id=041ae5bd-d092-470c-891b-fd391cf8b27e, accuracy=0.83333, time=0:09:49.983942\n",
      "INFO: Found pipeline, id=10e8f5e9-1604-4b4f-ab38-26e606dd8c42, accuracy=0.83264, time=0:10:05.019166\n",
      "INFO: Found pipeline, id=689584ba-42a8-4292-af25-5a80a0068e81, accuracy=0.64861, time=0:10:23.056800\n"
     ]
    }
   ],
   "source": [
    "output_path = '/Users/rlopez/D3M/examples/tmp/'\n",
    "train_dataset = '/Users/rlopez/D3M/examples/credit_train.csv'\n",
    "test_dataset = '/Users/rlopez/D3M/examples/credit_test.csv'\n",
    "\n",
    "automl = Automl(output_path, 'NYU')\n",
    "pipelines = automl.search_pipelines(train_dataset, time_bound=5, target='Loan Status')"
   ]
  },
  {
   "cell_type": "code",
   "execution_count": 3,
   "metadata": {},
   "outputs": [
    {
     "data": {
      "text/html": [
       "<div>\n",
       "<style scoped>\n",
       "    .dataframe tbody tr th:only-of-type {\n",
       "        vertical-align: middle;\n",
       "    }\n",
       "\n",
       "    .dataframe tbody tr th {\n",
       "        vertical-align: top;\n",
       "    }\n",
       "\n",
       "    .dataframe thead th {\n",
       "        text-align: right;\n",
       "    }\n",
       "</style>\n",
       "<table border=\"1\" class=\"dataframe\">\n",
       "  <thead>\n",
       "    <tr style=\"text-align: right;\">\n",
       "      <th></th>\n",
       "      <th>ranking</th>\n",
       "      <th>id</th>\n",
       "      <th>summary</th>\n",
       "      <th>accuracy</th>\n",
       "    </tr>\n",
       "  </thead>\n",
       "  <tbody>\n",
       "    <tr>\n",
       "      <th>0</th>\n",
       "      <td>1</td>\n",
       "      <td>2fd8db73-7b15-48e8-a074-b3f6f306be08</td>\n",
       "      <td>add_semantic_types.common, imputer.sklearn, encoder.distiltextencoder, encoder.dsbox, robust_scaler.sklearn, gradient_boosting.sklearn</td>\n",
       "      <td>0.83333</td>\n",
       "    </tr>\n",
       "    <tr>\n",
       "      <th>1</th>\n",
       "      <td>2</td>\n",
       "      <td>c08037be-89dd-46c5-b55a-bddaa63c3e2b</td>\n",
       "      <td>add_semantic_types.common, encoder.distiltextencoder, encoder.dsbox, robust_scaler.sklearn, imputer.sklearn, ada_boost.sklearn</td>\n",
       "      <td>0.83333</td>\n",
       "    </tr>\n",
       "    <tr>\n",
       "      <th>2</th>\n",
       "      <td>3</td>\n",
       "      <td>041ae5bd-d092-470c-891b-fd391cf8b27e</td>\n",
       "      <td>add_semantic_types.common, encoder.distiltextencoder, encoder.dsbox, robust_scaler.sklearn, imputer.sklearn, ada_boost.sklearn</td>\n",
       "      <td>0.83333</td>\n",
       "    </tr>\n",
       "    <tr>\n",
       "      <th>3</th>\n",
       "      <td>4</td>\n",
       "      <td>e9ad5295-d84f-4b77-bbbe-0eca124d8687</td>\n",
       "      <td>add_semantic_types.common, encoder.distiltextencoder, encoder.dsbox, robust_scaler.sklearn, imputer.sklearn, search.find_projections</td>\n",
       "      <td>0.83264</td>\n",
       "    </tr>\n",
       "    <tr>\n",
       "      <th>4</th>\n",
       "      <td>5</td>\n",
       "      <td>10e8f5e9-1604-4b4f-ab38-26e606dd8c42</td>\n",
       "      <td>add_semantic_types.common, imputer.sklearn, encoder.distiltextencoder, encoder.dsbox, robust_scaler.sklearn, gradient_boosting.sklearn</td>\n",
       "      <td>0.83264</td>\n",
       "    </tr>\n",
       "    <tr>\n",
       "      <th>5</th>\n",
       "      <td>6</td>\n",
       "      <td>d96f4c10-8fe5-43a4-83be-43b1b40a1baf</td>\n",
       "      <td>add_semantic_types.common, imputer.sklearn, encoder.distiltextencoder, encoder.dsbox, robust_scaler.sklearn, linear_svc.sklearn</td>\n",
       "      <td>0.82778</td>\n",
       "    </tr>\n",
       "    <tr>\n",
       "      <th>6</th>\n",
       "      <td>7</td>\n",
       "      <td>dca71b67-b5b9-46c5-a695-f6fc18c52a46</td>\n",
       "      <td>add_semantic_types.common, imputer.sklearn, encoder.distiltextencoder, encoder.dsbox, robust_scaler.sklearn, random_forest.sklearn</td>\n",
       "      <td>0.81319</td>\n",
       "    </tr>\n",
       "    <tr>\n",
       "      <th>7</th>\n",
       "      <td>8</td>\n",
       "      <td>59a60398-310b-4a8e-9e17-9865e2f22991</td>\n",
       "      <td>add_semantic_types.common, encoder.distiltextencoder, encoder.dsbox, robust_scaler.sklearn, imputer.sklearn, k_neighbors.sklearn</td>\n",
       "      <td>0.80347</td>\n",
       "    </tr>\n",
       "    <tr>\n",
       "      <th>8</th>\n",
       "      <td>9</td>\n",
       "      <td>b7dfe6d8-2d4f-4d37-95b9-a227b460b5fd</td>\n",
       "      <td>add_semantic_types.common, imputer.sklearn, encoder.distiltextencoder, encoder.dsbox, robust_scaler.sklearn, extra_trees.sklearn</td>\n",
       "      <td>0.80208</td>\n",
       "    </tr>\n",
       "    <tr>\n",
       "      <th>9</th>\n",
       "      <td>10</td>\n",
       "      <td>05787fe7-cc24-451c-a406-51518a514032</td>\n",
       "      <td>add_semantic_types.common, encoder.distiltextencoder, encoder.dsbox, robust_scaler.sklearn, imputer.sklearn, bernoulli_naive_bayes.sklearn</td>\n",
       "      <td>0.78472</td>\n",
       "    </tr>\n",
       "    <tr>\n",
       "      <th>10</th>\n",
       "      <td>11</td>\n",
       "      <td>cf5a02c5-2e11-43ef-8d35-ff2efc505b70</td>\n",
       "      <td>add_semantic_types.common, encoder.distiltextencoder, encoder.dsbox, robust_scaler.sklearn, imputer.sklearn, decision_tree.sklearn</td>\n",
       "      <td>0.74583</td>\n",
       "    </tr>\n",
       "    <tr>\n",
       "      <th>11</th>\n",
       "      <td>12</td>\n",
       "      <td>449829ef-e369-4429-9d05-ab0d4feb1df8</td>\n",
       "      <td>add_semantic_types.common, encoder.distiltextencoder, encoder.dsbox, robust_scaler.sklearn, imputer.sklearn, passive_aggressive.sklearn</td>\n",
       "      <td>0.66181</td>\n",
       "    </tr>\n",
       "    <tr>\n",
       "      <th>12</th>\n",
       "      <td>13</td>\n",
       "      <td>a8db0dd6-3b6e-4514-a3b1-4c4a3e0324f9</td>\n",
       "      <td>add_semantic_types.common, imputer.sklearn, encoder.distiltextencoder, encoder.dsbox, robust_scaler.sklearn, sgd.sklearn</td>\n",
       "      <td>0.64931</td>\n",
       "    </tr>\n",
       "    <tr>\n",
       "      <th>13</th>\n",
       "      <td>14</td>\n",
       "      <td>689584ba-42a8-4292-af25-5a80a0068e81</td>\n",
       "      <td>add_semantic_types.common, imputer.sklearn, encoder.distiltextencoder, encoder.dsbox, robust_scaler.sklearn, linear_svc.sklearn</td>\n",
       "      <td>0.64861</td>\n",
       "    </tr>\n",
       "    <tr>\n",
       "      <th>14</th>\n",
       "      <td>15</td>\n",
       "      <td>bcb640d4-40f9-4505-8202-8b2a2ba59256</td>\n",
       "      <td>add_semantic_types.common, encoder.distiltextencoder, encoder.dsbox, robust_scaler.sklearn, imputer.sklearn, nearest_centroid.sklearn</td>\n",
       "      <td>0.30625</td>\n",
       "    </tr>\n",
       "  </tbody>\n",
       "</table>\n",
       "</div>"
      ],
      "text/plain": [
       "    ranking                                    id  \\\n",
       "0         1  2fd8db73-7b15-48e8-a074-b3f6f306be08   \n",
       "1         2  c08037be-89dd-46c5-b55a-bddaa63c3e2b   \n",
       "2         3  041ae5bd-d092-470c-891b-fd391cf8b27e   \n",
       "3         4  e9ad5295-d84f-4b77-bbbe-0eca124d8687   \n",
       "4         5  10e8f5e9-1604-4b4f-ab38-26e606dd8c42   \n",
       "5         6  d96f4c10-8fe5-43a4-83be-43b1b40a1baf   \n",
       "6         7  dca71b67-b5b9-46c5-a695-f6fc18c52a46   \n",
       "7         8  59a60398-310b-4a8e-9e17-9865e2f22991   \n",
       "8         9  b7dfe6d8-2d4f-4d37-95b9-a227b460b5fd   \n",
       "9        10  05787fe7-cc24-451c-a406-51518a514032   \n",
       "10       11  cf5a02c5-2e11-43ef-8d35-ff2efc505b70   \n",
       "11       12  449829ef-e369-4429-9d05-ab0d4feb1df8   \n",
       "12       13  a8db0dd6-3b6e-4514-a3b1-4c4a3e0324f9   \n",
       "13       14  689584ba-42a8-4292-af25-5a80a0068e81   \n",
       "14       15  bcb640d4-40f9-4505-8202-8b2a2ba59256   \n",
       "\n",
       "                                                                                                                                       summary  \\\n",
       "0       add_semantic_types.common, imputer.sklearn, encoder.distiltextencoder, encoder.dsbox, robust_scaler.sklearn, gradient_boosting.sklearn   \n",
       "1               add_semantic_types.common, encoder.distiltextencoder, encoder.dsbox, robust_scaler.sklearn, imputer.sklearn, ada_boost.sklearn   \n",
       "2               add_semantic_types.common, encoder.distiltextencoder, encoder.dsbox, robust_scaler.sklearn, imputer.sklearn, ada_boost.sklearn   \n",
       "3         add_semantic_types.common, encoder.distiltextencoder, encoder.dsbox, robust_scaler.sklearn, imputer.sklearn, search.find_projections   \n",
       "4       add_semantic_types.common, imputer.sklearn, encoder.distiltextencoder, encoder.dsbox, robust_scaler.sklearn, gradient_boosting.sklearn   \n",
       "5              add_semantic_types.common, imputer.sklearn, encoder.distiltextencoder, encoder.dsbox, robust_scaler.sklearn, linear_svc.sklearn   \n",
       "6           add_semantic_types.common, imputer.sklearn, encoder.distiltextencoder, encoder.dsbox, robust_scaler.sklearn, random_forest.sklearn   \n",
       "7             add_semantic_types.common, encoder.distiltextencoder, encoder.dsbox, robust_scaler.sklearn, imputer.sklearn, k_neighbors.sklearn   \n",
       "8             add_semantic_types.common, imputer.sklearn, encoder.distiltextencoder, encoder.dsbox, robust_scaler.sklearn, extra_trees.sklearn   \n",
       "9   add_semantic_types.common, encoder.distiltextencoder, encoder.dsbox, robust_scaler.sklearn, imputer.sklearn, bernoulli_naive_bayes.sklearn   \n",
       "10          add_semantic_types.common, encoder.distiltextencoder, encoder.dsbox, robust_scaler.sklearn, imputer.sklearn, decision_tree.sklearn   \n",
       "11     add_semantic_types.common, encoder.distiltextencoder, encoder.dsbox, robust_scaler.sklearn, imputer.sklearn, passive_aggressive.sklearn   \n",
       "12                    add_semantic_types.common, imputer.sklearn, encoder.distiltextencoder, encoder.dsbox, robust_scaler.sklearn, sgd.sklearn   \n",
       "13             add_semantic_types.common, imputer.sklearn, encoder.distiltextencoder, encoder.dsbox, robust_scaler.sklearn, linear_svc.sklearn   \n",
       "14       add_semantic_types.common, encoder.distiltextencoder, encoder.dsbox, robust_scaler.sklearn, imputer.sklearn, nearest_centroid.sklearn   \n",
       "\n",
       "    accuracy  \n",
       "0    0.83333  \n",
       "1    0.83333  \n",
       "2    0.83333  \n",
       "3    0.83264  \n",
       "4    0.83264  \n",
       "5    0.82778  \n",
       "6    0.81319  \n",
       "7    0.80347  \n",
       "8    0.80208  \n",
       "9    0.78472  \n",
       "10   0.74583  \n",
       "11   0.66181  \n",
       "12   0.64931  \n",
       "13   0.64861  \n",
       "14   0.30625  "
      ]
     },
     "execution_count": 3,
     "metadata": {},
     "output_type": "execute_result"
    }
   ],
   "source": [
    "automl.leaderboard"
   ]
  },
  {
   "cell_type": "markdown",
   "metadata": {},
   "source": [
    "### Generating pipelines for OpenML datasets"
   ]
  },
  {
   "cell_type": "code",
   "execution_count": 9,
   "metadata": {},
   "outputs": [
    {
     "name": "stdout",
     "output_type": "stream",
     "text": [
      "INFO: Reiceving a raw dataset, converting to D3M format\n",
      "WARNING: Task keywords not defined, using: [classification, multiClass]\n",
      "DEBUG: Data pickle file already exists and is up to date.\n",
      "INFO: Initializing NYU TA2...\n",
      "INFO: NYU TA2 initialized!\n",
      "INFO: Found pipeline, id=e334e21c-022a-440c-957e-8c608b69fea9, f1_macro=0.64148, time=0:00:23.835888\n",
      "INFO: Found pipeline, id=1986142d-11b5-4bf5-849c-abe6f3ba6693, f1_macro=0.63608, time=0:00:45.034725\n",
      "INFO: Found pipeline, id=c687c324-04ca-4514-a151-fc8103078f62, f1_macro=0.71179, time=0:01:06.215613\n"
     ]
    }
   ],
   "source": [
    "output_path = '/Users/rlopez/D3M/examples/tmp/'\n",
    "train_dataset = 'https://www.openml.org/d/31' # credit risks dataset\n",
    "automl = Automl(output_path, 'NYU')\n",
    "pipelines = automl.search_pipelines(train_dataset, time_bound=1, target='class', metric='f1Macro')"
   ]
  },
  {
   "cell_type": "markdown",
   "metadata": {},
   "source": [
    "### Generating pipelines for Sklearn datasets"
   ]
  },
  {
   "cell_type": "code",
   "execution_count": 9,
   "metadata": {},
   "outputs": [
    {
     "name": "stdout",
     "output_type": "stream",
     "text": [
      "INFO: Reiceving a raw dataset, converting to D3M format\n",
      "WARNING: Metric not defined, using: rootMeanSquaredError\n",
      "INFO: Initializing NYU TA2...\n",
      "INFO: NYU TA2 initialized!\n",
      "INFO: Found pipeline, id=0e5cc36a-b6fd-4922-bb80-8369f70bcd23, root_mean_squared_error=60.75112, time=0:00:14.181106\n",
      "INFO: Found pipeline, id=5771e5cf-6442-4389-95e4-08691604afd6, root_mean_squared_error=60.36269, time=0:00:26.286293\n",
      "INFO: Found pipeline, id=95f49c0c-1d82-4ba4-bd29-3ceb82725f13, root_mean_squared_error=56.78704, time=0:00:38.394248\n",
      "INFO: Found pipeline, id=366032d8-fd2e-455c-9bde-eb21b6ccec34, root_mean_squared_error=62.1996, time=0:00:50.511736\n",
      "INFO: Found pipeline, id=6b739b04-14d0-4c97-9529-11b2c19cbb3c, root_mean_squared_error=56.68418, time=0:01:02.608088\n"
     ]
    }
   ],
   "source": [
    "from sklearn.datasets import load_diabetes\n",
    "output_path = '/Users/rlopez/D3M/examples/tmp/'\n",
    "train_dataset = load_diabetes\n",
    "automl = Automl(output_path, 'NYU')\n",
    "pipelines = automl.search_pipelines(train_dataset, time_bound=1, target='column 10', task_keywords=['regression'])"
   ]
  },
  {
   "cell_type": "code",
   "execution_count": null,
   "metadata": {},
   "outputs": [],
   "source": [
    "profiler_inputs = automl.create_profiler_inputs()"
   ]
  },
  {
   "cell_type": "code",
   "execution_count": null,
   "metadata": {},
   "outputs": [],
   "source": [
    "PipelineProfiler.plot_pipeline_matrix(profiler_inputs)"
   ]
  },
  {
   "cell_type": "code",
   "execution_count": 15,
   "metadata": {},
   "outputs": [
    {
     "name": "stdout",
     "output_type": "stream",
     "text": [
      "INFO: Ending session...\n",
      "INFO: Session ended!\n"
     ]
    }
   ],
   "source": [
    "automl.end_session()"
   ]
  },
  {
   "cell_type": "code",
   "execution_count": null,
   "metadata": {},
   "outputs": [],
   "source": []
  }
 ],
 "metadata": {
  "kernelspec": {
   "display_name": "Python 3",
   "language": "python",
   "name": "python3"
  },
  "language_info": {
   "codemirror_mode": {
    "name": "ipython",
    "version": 3
   },
   "file_extension": ".py",
   "mimetype": "text/x-python",
   "name": "python",
   "nbconvert_exporter": "python",
   "pygments_lexer": "ipython3",
   "version": "3.6.5"
  }
 },
 "nbformat": 4,
 "nbformat_minor": 2
}
