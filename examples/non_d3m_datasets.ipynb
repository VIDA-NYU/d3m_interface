{
 "cells": [
  {
   "cell_type": "markdown",
   "metadata": {},
   "source": [
    "## Working with non D3M datasets"
   ]
  },
  {
   "cell_type": "markdown",
   "metadata": {},
   "source": [
    "First, import the class `AutoML` from `d3m-interface`:"
   ]
  },
  {
   "cell_type": "code",
   "execution_count": 1,
   "metadata": {},
   "outputs": [],
   "source": [
    "from d3m_interface import AutoML"
   ]
  },
  {
   "cell_type": "markdown",
   "metadata": {},
   "source": [
    "### Generating pipelines for CSV datasets"
   ]
  },
  {
   "cell_type": "markdown",
   "metadata": {},
   "source": [
    "In this example, we are generating pipelines for CSV datasets. The [credit dataset](https://gitlab.com/ViDA-NYU/d3m/d3m_interface/-/tree/master/examples/csv_dataset) is used for this example. This dataset consists of loan records to determine the best way to predict whether a loan applicant will fully repay or default on a loan. \n",
    "<div class=\"alert alert-info\"><b>Important</b>\n",
    "    \n",
    "Note that the path to the dataset directories must be an absolute path and not a relative path. \n",
    "</div>"
   ]
  },
  {
   "cell_type": "code",
   "execution_count": 2,
   "metadata": {},
   "outputs": [
    {
     "data": {
      "text/html": [
       "\n",
       "<div id=\"altair-viz-1a6cde80ec15459893c7aececd5e62a7\"></div>\n",
       "<script type=\"text/javascript\">\n",
       "  (function(spec, embedOpt){\n",
       "    let outputDiv = document.currentScript.previousElementSibling;\n",
       "    if (outputDiv.id !== \"altair-viz-1a6cde80ec15459893c7aececd5e62a7\") {\n",
       "      outputDiv = document.getElementById(\"altair-viz-1a6cde80ec15459893c7aececd5e62a7\");\n",
       "    }\n",
       "    const paths = {\n",
       "      \"vega\": \"https://cdn.jsdelivr.net/npm//vega@5?noext\",\n",
       "      \"vega-lib\": \"https://cdn.jsdelivr.net/npm//vega-lib?noext\",\n",
       "      \"vega-lite\": \"https://cdn.jsdelivr.net/npm//vega-lite@4.8.1?noext\",\n",
       "      \"vega-embed\": \"https://cdn.jsdelivr.net/npm//vega-embed@6?noext\",\n",
       "    };\n",
       "\n",
       "    function loadScript(lib) {\n",
       "      return new Promise(function(resolve, reject) {\n",
       "        var s = document.createElement('script');\n",
       "        s.src = paths[lib];\n",
       "        s.async = true;\n",
       "        s.onload = () => resolve(paths[lib]);\n",
       "        s.onerror = () => reject(`Error loading script: ${paths[lib]}`);\n",
       "        document.getElementsByTagName(\"head\")[0].appendChild(s);\n",
       "      });\n",
       "    }\n",
       "\n",
       "    function showError(err) {\n",
       "      outputDiv.innerHTML = `<div class=\"error\" style=\"color:red;\">${err}</div>`;\n",
       "      throw err;\n",
       "    }\n",
       "\n",
       "    function displayChart(vegaEmbed) {\n",
       "      vegaEmbed(outputDiv, spec, embedOpt)\n",
       "        .catch(err => showError(`Javascript Error: ${err.message}<br>This usually means there's a typo in your chart specification. See the javascript console for the full traceback.`));\n",
       "    }\n",
       "\n",
       "    if(typeof define === \"function\" && define.amd) {\n",
       "      requirejs.config({paths});\n",
       "      require([\"vega-embed\"], displayChart, err => showError(`Error loading script: ${err.message}`));\n",
       "    } else if (typeof vegaEmbed === \"function\") {\n",
       "      displayChart(vegaEmbed);\n",
       "    } else {\n",
       "      loadScript(\"vega\")\n",
       "        .then(() => loadScript(\"vega-lite\"))\n",
       "        .then(() => loadScript(\"vega-embed\"))\n",
       "        .catch(showError)\n",
       "        .then(() => displayChart(vegaEmbed));\n",
       "    }\n",
       "  })({\"config\": {\"view\": {\"continuousWidth\": 400, \"continuousHeight\": 300}}, \"hconcat\": [{\"mark\": \"bar\", \"encoding\": {\"tooltip\": [{\"type\": \"nominal\", \"field\": \"bin\"}], \"x\": {\"type\": \"nominal\", \"axis\": {\"title\": \"\"}, \"field\": \"bin\"}, \"y\": {\"type\": \"quantitative\", \"axis\": {\"title\": \"\"}, \"field\": \"count\"}}, \"height\": 100, \"title\": \"Loan Status\", \"width\": 100}, {\"data\": {\"name\": \"data-a282cfd1fb89c5be6ddadf9b712fb40f\"}, \"mark\": \"bar\", \"encoding\": {\"tooltip\": [{\"type\": \"quantitative\", \"field\": \"bin_start\"}, {\"type\": \"quantitative\", \"field\": \"bin_end\"}], \"x\": {\"type\": \"quantitative\", \"axis\": {\"title\": \"\"}, \"bin\": \"binned\", \"field\": \"bin_start\"}, \"x2\": {\"field\": \"bin_end\"}, \"y\": {\"type\": \"quantitative\", \"axis\": {\"title\": \"\"}, \"field\": \"count\"}}, \"height\": 100, \"title\": {\"text\": \"Current Loan Amount\"}, \"width\": 100}, {\"data\": {\"name\": \"data-3b357bcec1b7df539bcc63e595d6162d\"}, \"mark\": \"bar\", \"encoding\": {\"tooltip\": [{\"type\": \"nominal\", \"field\": \"bin\"}], \"x\": {\"type\": \"nominal\", \"axis\": {\"title\": \"\"}, \"field\": \"bin\"}, \"y\": {\"type\": \"quantitative\", \"axis\": {\"title\": \"\"}, \"field\": \"count\"}}, \"height\": 100, \"title\": \"Term\", \"width\": 100}, {\"data\": {\"name\": \"data-08bfc3380846ec65cf8a4c83b08dff03\"}, \"mark\": \"bar\", \"encoding\": {\"tooltip\": [{\"type\": \"quantitative\", \"field\": \"bin_start\"}, {\"type\": \"quantitative\", \"field\": \"bin_end\"}], \"x\": {\"type\": \"quantitative\", \"axis\": {\"title\": \"\"}, \"bin\": \"binned\", \"field\": \"bin_start\"}, \"x2\": {\"field\": \"bin_end\"}, \"y\": {\"type\": \"quantitative\", \"axis\": {\"title\": \"\"}, \"field\": \"count\"}}, \"height\": 100, \"title\": {\"text\": \"Credit Score\"}, \"width\": 100}, {\"data\": {\"name\": \"data-1793325991ae8e4ed325d501519f2e13\"}, \"mark\": \"bar\", \"encoding\": {\"tooltip\": [{\"type\": \"quantitative\", \"field\": \"bin_start\"}, {\"type\": \"quantitative\", \"field\": \"bin_end\"}], \"x\": {\"type\": \"quantitative\", \"axis\": {\"title\": \"\"}, \"bin\": \"binned\", \"field\": \"bin_start\"}, \"x2\": {\"field\": \"bin_end\"}, \"y\": {\"type\": \"quantitative\", \"axis\": {\"title\": \"\"}, \"field\": \"count\"}}, \"height\": 100, \"title\": {\"text\": \"Annual Income\"}, \"width\": 100}, {\"data\": {\"name\": \"data-94d4dac817402ed8bdc2382db75c41fd\"}, \"mark\": \"bar\", \"encoding\": {\"tooltip\": [{\"type\": \"nominal\", \"field\": \"bin\"}], \"x\": {\"type\": \"nominal\", \"axis\": {\"title\": \"\"}, \"field\": \"bin\"}, \"y\": {\"type\": \"quantitative\", \"axis\": {\"title\": \"\"}, \"field\": \"count\"}}, \"height\": 100, \"title\": \"Years in current job\", \"width\": 100}, {\"data\": {\"name\": \"data-4f96fd901b48603bbbb7f66815572735\"}, \"mark\": \"bar\", \"encoding\": {\"tooltip\": [{\"type\": \"nominal\", \"field\": \"bin\"}], \"x\": {\"type\": \"nominal\", \"axis\": {\"title\": \"\"}, \"field\": \"bin\"}, \"y\": {\"type\": \"quantitative\", \"axis\": {\"title\": \"\"}, \"field\": \"count\"}}, \"height\": 100, \"title\": \"Home Ownership\", \"width\": 100}, {\"data\": {\"name\": \"data-58d6ee3a6cb97d85f16db6dfef02396f\"}, \"mark\": \"bar\", \"encoding\": {\"tooltip\": [{\"type\": \"nominal\", \"field\": \"bin\"}], \"x\": {\"type\": \"nominal\", \"axis\": {\"title\": \"\"}, \"field\": \"bin\"}, \"y\": {\"type\": \"quantitative\", \"axis\": {\"title\": \"\"}, \"field\": \"count\"}}, \"height\": 100, \"title\": \"Purpose\", \"width\": 100}, {\"data\": {\"name\": \"data-5fdfb6d21fc251dea9e49294e3c0220b\"}, \"mark\": \"bar\", \"encoding\": {\"tooltip\": [{\"type\": \"quantitative\", \"field\": \"bin_start\"}, {\"type\": \"quantitative\", \"field\": \"bin_end\"}], \"x\": {\"type\": \"quantitative\", \"axis\": {\"title\": \"\"}, \"bin\": \"binned\", \"field\": \"bin_start\"}, \"x2\": {\"field\": \"bin_end\"}, \"y\": {\"type\": \"quantitative\", \"axis\": {\"title\": \"\"}, \"field\": \"count\"}}, \"height\": 100, \"title\": {\"text\": \"Monthly Debt\"}, \"width\": 100}, {\"data\": {\"name\": \"data-ab994d84cba690273d176bd2ea0c8c8b\"}, \"mark\": \"bar\", \"encoding\": {\"tooltip\": [{\"type\": \"quantitative\", \"field\": \"bin_start\"}, {\"type\": \"quantitative\", \"field\": \"bin_end\"}], \"x\": {\"type\": \"quantitative\", \"axis\": {\"title\": \"\"}, \"bin\": \"binned\", \"field\": \"bin_start\"}, \"x2\": {\"field\": \"bin_end\"}, \"y\": {\"type\": \"quantitative\", \"axis\": {\"title\": \"\"}, \"field\": \"count\"}}, \"height\": 100, \"title\": {\"text\": \"Years of Credit History\"}, \"width\": 100}, {\"data\": {\"name\": \"data-f2fcd9de727a7547d3a426e5900afdee\"}, \"mark\": \"bar\", \"encoding\": {\"tooltip\": [{\"type\": \"nominal\", \"field\": \"bin\"}], \"x\": {\"type\": \"nominal\", \"axis\": {\"title\": \"\"}, \"field\": \"bin\"}, \"y\": {\"type\": \"quantitative\", \"axis\": {\"title\": \"\"}, \"field\": \"count\"}}, \"height\": 100, \"title\": \"Months since last delinquent\", \"width\": 100}, {\"data\": {\"name\": \"data-fdece4b429451b6ed7667d1becbe13f9\"}, \"mark\": \"bar\", \"encoding\": {\"tooltip\": [{\"type\": \"quantitative\", \"field\": \"bin_start\"}, {\"type\": \"quantitative\", \"field\": \"bin_end\"}], \"x\": {\"type\": \"quantitative\", \"axis\": {\"title\": \"\"}, \"bin\": \"binned\", \"field\": \"bin_start\"}, \"x2\": {\"field\": \"bin_end\"}, \"y\": {\"type\": \"quantitative\", \"axis\": {\"title\": \"\"}, \"field\": \"count\"}}, \"height\": 100, \"title\": {\"text\": \"Number of Open Accounts\"}, \"width\": 100}, {\"data\": {\"name\": \"data-760bfc8db71ed3c0d1a02ab5ba40271c\"}, \"mark\": \"bar\", \"encoding\": {\"tooltip\": [{\"type\": \"quantitative\", \"field\": \"bin_start\"}, {\"type\": \"quantitative\", \"field\": \"bin_end\"}], \"x\": {\"type\": \"quantitative\", \"axis\": {\"title\": \"\"}, \"bin\": \"binned\", \"field\": \"bin_start\"}, \"x2\": {\"field\": \"bin_end\"}, \"y\": {\"type\": \"quantitative\", \"axis\": {\"title\": \"\"}, \"field\": \"count\"}}, \"height\": 100, \"title\": {\"text\": \"Number of Credit Problems\"}, \"width\": 100}, {\"data\": {\"name\": \"data-5405bb465ecaf8d17882594d6076cb46\"}, \"mark\": \"bar\", \"encoding\": {\"tooltip\": [{\"type\": \"quantitative\", \"field\": \"bin_start\"}, {\"type\": \"quantitative\", \"field\": \"bin_end\"}], \"x\": {\"type\": \"quantitative\", \"axis\": {\"title\": \"\"}, \"bin\": \"binned\", \"field\": \"bin_start\"}, \"x2\": {\"field\": \"bin_end\"}, \"y\": {\"type\": \"quantitative\", \"axis\": {\"title\": \"\"}, \"field\": \"count\"}}, \"height\": 100, \"title\": {\"text\": \"Current Credit Balance\"}, \"width\": 100}, {\"data\": {\"name\": \"data-f285abcbb56444cce329a521b8d45630\"}, \"mark\": \"bar\", \"encoding\": {\"tooltip\": [{\"type\": \"quantitative\", \"field\": \"bin_start\"}, {\"type\": \"quantitative\", \"field\": \"bin_end\"}], \"x\": {\"type\": \"quantitative\", \"axis\": {\"title\": \"\"}, \"bin\": \"binned\", \"field\": \"bin_start\"}, \"x2\": {\"field\": \"bin_end\"}, \"y\": {\"type\": \"quantitative\", \"axis\": {\"title\": \"\"}, \"field\": \"count\"}}, \"height\": 100, \"title\": {\"text\": \"Maximum Open Credit\"}, \"width\": 100}, {\"data\": {\"name\": \"data-fe32c637068a92cb458bc594e4f90fe1\"}, \"mark\": \"bar\", \"encoding\": {\"tooltip\": [{\"type\": \"quantitative\", \"field\": \"bin_start\"}, {\"type\": \"quantitative\", \"field\": \"bin_end\"}], \"x\": {\"type\": \"quantitative\", \"axis\": {\"title\": \"\"}, \"bin\": \"binned\", \"field\": \"bin_start\"}, \"x2\": {\"field\": \"bin_end\"}, \"y\": {\"type\": \"quantitative\", \"axis\": {\"title\": \"\"}, \"field\": \"count\"}}, \"height\": 100, \"title\": {\"text\": \"Bankruptcies\"}, \"width\": 100}, {\"data\": {\"name\": \"data-b0cff4ffe052bc7fa283d5e48dbe317f\"}, \"mark\": \"bar\", \"encoding\": {\"tooltip\": [{\"type\": \"quantitative\", \"field\": \"bin_start\"}, {\"type\": \"quantitative\", \"field\": \"bin_end\"}], \"x\": {\"type\": \"quantitative\", \"axis\": {\"title\": \"\"}, \"bin\": \"binned\", \"field\": \"bin_start\"}, \"x2\": {\"field\": \"bin_end\"}, \"y\": {\"type\": \"quantitative\", \"axis\": {\"title\": \"\"}, \"field\": \"count\"}}, \"height\": 100, \"title\": {\"text\": \"Tax Liens\"}, \"width\": 100}], \"data\": {\"name\": \"data-ab5e3ef130ab13c624fb07e1922f705f\"}, \"$schema\": \"https://vega.github.io/schema/vega-lite/v4.8.1.json\", \"datasets\": {\"data-ab5e3ef130ab13c624fb07e1922f705f\": [{\"bin\": \"Charged Off\", \"count\": 917}, {\"bin\": \"Fully Paid\", \"count\": 3083}], \"data-a282cfd1fb89c5be6ddadf9b712fb40f\": [{\"count\": 3536, \"bin_start\": 21824.0, \"bin_end\": 10019641.5}, {\"count\": 0, \"bin_start\": 10019641.5, \"bin_end\": 20017459.0}, {\"count\": 0, \"bin_start\": 20017459.0, \"bin_end\": 30015276.5}, {\"count\": 0, \"bin_start\": 30015276.5, \"bin_end\": 40013094.0}, {\"count\": 0, \"bin_start\": 40013094.0, \"bin_end\": 50010911.5}, {\"count\": 0, \"bin_start\": 50010911.5, \"bin_end\": 60008729.0}, {\"count\": 0, \"bin_start\": 60008729.0, \"bin_end\": 70006546.5}, {\"count\": 0, \"bin_start\": 70006546.5, \"bin_end\": 80004364.0}, {\"count\": 0, \"bin_start\": 80004364.0, \"bin_end\": 90002181.5}, {\"count\": 464, \"bin_start\": 90002181.5, \"bin_end\": 99999999.0}], \"data-3b357bcec1b7df539bcc63e595d6162d\": [{\"bin\": \"Long Term\", \"count\": 1113}, {\"bin\": \"Short Term\", \"count\": 2887}], \"data-08bfc3380846ec65cf8a4c83b08dff03\": [{\"count\": 3036, \"bin_start\": 594.0, \"bin_end\": 1285.6}, {\"count\": 0, \"bin_start\": 1285.6, \"bin_end\": 1977.2}, {\"count\": 0, \"bin_start\": 1977.2, \"bin_end\": 2668.8}, {\"count\": 0, \"bin_start\": 2668.8, \"bin_end\": 3360.4}, {\"count\": 0, \"bin_start\": 3360.4, \"bin_end\": 4052.0}, {\"count\": 0, \"bin_start\": 4052.0, \"bin_end\": 4743.6}, {\"count\": 0, \"bin_start\": 4743.6, \"bin_end\": 5435.2}, {\"count\": 3, \"bin_start\": 5435.2, \"bin_end\": 6126.8}, {\"count\": 38, \"bin_start\": 6126.8, \"bin_end\": 6818.400000000001}, {\"count\": 143, \"bin_start\": 6818.400000000001, \"bin_end\": 7510.0}], \"data-1793325991ae8e4ed325d501519f2e13\": [{\"count\": 1386, \"bin_start\": 164597.0, \"bin_end\": 1082747.3}, {\"count\": 1352, \"bin_start\": 1082747.3, \"bin_end\": 2000897.6}, {\"count\": 344, \"bin_start\": 2000897.6, \"bin_end\": 2919047.9000000004}, {\"count\": 83, \"bin_start\": 2919047.9000000004, \"bin_end\": 3837198.2}, {\"count\": 29, \"bin_start\": 3837198.2, \"bin_end\": 4755348.5}, {\"count\": 10, \"bin_start\": 4755348.5, \"bin_end\": 5673498.800000001}, {\"count\": 6, \"bin_start\": 5673498.800000001, \"bin_end\": 6591649.100000001}, {\"count\": 4, \"bin_start\": 6591649.100000001, \"bin_end\": 7509799.4}, {\"count\": 5, \"bin_start\": 7509799.4, \"bin_end\": 8427949.7}, {\"count\": 1, \"bin_start\": 8427949.7, \"bin_end\": 9346100.0}], \"data-94d4dac817402ed8bdc2382db75c41fd\": [{\"bin\": \"10+ years\", \"count\": 1230}, {\"bin\": \"2 years\", \"count\": 365}, {\"bin\": \"3 years\", \"count\": 312}, {\"bin\": \"4 years\", \"count\": 267}, {\"bin\": \"< 1 year\", \"count\": 339}], \"data-4f96fd901b48603bbbb7f66815572735\": [{\"bin\": \"HaveMortgage\", \"count\": 9}, {\"bin\": \"Home Mortgage\", \"count\": 1946}, {\"bin\": \"Own Home\", \"count\": 344}, {\"bin\": \"Rent\", \"count\": 1701}], \"data-58d6ee3a6cb97d85f16db6dfef02396f\": [{\"bin\": \"Business Loan\", \"count\": 58}, {\"bin\": \"Debt Consolidation\", \"count\": 3173}, {\"bin\": \"Home Improvements\", \"count\": 235}, {\"bin\": \"Other\", \"count\": 124}, {\"bin\": \"other\", \"count\": 227}], \"data-5fdfb6d21fc251dea9e49294e3c0220b\": [{\"count\": 1078, \"bin_start\": 0.0, \"bin_end\": 10644.465}, {\"count\": 1603, \"bin_start\": 10644.465, \"bin_end\": 21288.93}, {\"count\": 861, \"bin_start\": 21288.93, \"bin_end\": 31933.395}, {\"count\": 303, \"bin_start\": 31933.395, \"bin_end\": 42577.86}, {\"count\": 98, \"bin_start\": 42577.86, \"bin_end\": 53222.325}, {\"count\": 33, \"bin_start\": 53222.325, \"bin_end\": 63866.79}, {\"count\": 16, \"bin_start\": 63866.79, \"bin_end\": 74511.255}, {\"count\": 4, \"bin_start\": 74511.255, \"bin_end\": 85155.72}, {\"count\": 1, \"bin_start\": 85155.72, \"bin_end\": 95800.185}, {\"count\": 3, \"bin_start\": 95800.185, \"bin_end\": 106444.65}], \"data-ab994d84cba690273d176bd2ea0c8c8b\": [{\"count\": 150, \"bin_start\": 3.7, \"bin_end\": 8.42}, {\"count\": 768, \"bin_start\": 8.42, \"bin_end\": 13.14}, {\"count\": 1308, \"bin_start\": 13.14, \"bin_end\": 17.86}, {\"count\": 927, \"bin_start\": 17.86, \"bin_end\": 22.58}, {\"count\": 422, \"bin_start\": 22.58, \"bin_end\": 27.299999999999997}, {\"count\": 248, \"bin_start\": 27.299999999999997, \"bin_end\": 32.02}, {\"count\": 97, \"bin_start\": 32.02, \"bin_end\": 36.74}, {\"count\": 45, \"bin_start\": 36.74, \"bin_end\": 41.46}, {\"count\": 23, \"bin_start\": 41.46, \"bin_end\": 46.18}, {\"count\": 12, \"bin_start\": 46.18, \"bin_end\": 50.9}], \"data-f2fcd9de727a7547d3a426e5900afdee\": [{\"bin\": \"15\", \"count\": 37}, {\"bin\": \"18\", \"count\": 39}, {\"bin\": \"5\", \"count\": 39}, {\"bin\": \"7\", \"count\": 38}, {\"bin\": \"NA\", \"count\": 2142}], \"data-fdece4b429451b6ed7667d1becbe13f9\": [{\"count\": 366, \"bin_start\": 1.0, \"bin_end\": 5.4}, {\"count\": 1320, \"bin_start\": 5.4, \"bin_end\": 9.8}, {\"count\": 1459, \"bin_start\": 9.8, \"bin_end\": 14.200000000000001}, {\"count\": 528, \"bin_start\": 14.200000000000001, \"bin_end\": 18.6}, {\"count\": 200, \"bin_start\": 18.6, \"bin_end\": 23.0}, {\"count\": 90, \"bin_start\": 23.0, \"bin_end\": 27.400000000000002}, {\"count\": 18, \"bin_start\": 27.400000000000002, \"bin_end\": 31.800000000000004}, {\"count\": 12, \"bin_start\": 31.800000000000004, \"bin_end\": 36.2}, {\"count\": 2, \"bin_start\": 36.2, \"bin_end\": 40.6}, {\"count\": 5, \"bin_start\": 40.6, \"bin_end\": 45.0}], \"data-760bfc8db71ed3c0d1a02ab5ba40271c\": [{\"count\": 3427, \"bin_start\": 0.0, \"bin_end\": 0.6}, {\"count\": 504, \"bin_start\": 0.6, \"bin_end\": 1.2}, {\"count\": 0, \"bin_start\": 1.2, \"bin_end\": 1.7999999999999998}, {\"count\": 50, \"bin_start\": 1.7999999999999998, \"bin_end\": 2.4}, {\"count\": 0, \"bin_start\": 2.4, \"bin_end\": 3.0}, {\"count\": 14, \"bin_start\": 3.0, \"bin_end\": 3.5999999999999996}, {\"count\": 3, \"bin_start\": 3.5999999999999996, \"bin_end\": 4.2}, {\"count\": 0, \"bin_start\": 4.2, \"bin_end\": 4.8}, {\"count\": 1, \"bin_start\": 4.8, \"bin_end\": 5.3999999999999995}, {\"count\": 1, \"bin_start\": 5.3999999999999995, \"bin_end\": 6.0}], \"data-5405bb465ecaf8d17882594d6076cb46\": [{\"count\": 3783, \"bin_start\": 0.0, \"bin_end\": 742387.0}, {\"count\": 182, \"bin_start\": 742387.0, \"bin_end\": 1484774.0}, {\"count\": 21, \"bin_start\": 1484774.0, \"bin_end\": 2227161.0}, {\"count\": 4, \"bin_start\": 2227161.0, \"bin_end\": 2969548.0}, {\"count\": 4, \"bin_start\": 2969548.0, \"bin_end\": 3711935.0}, {\"count\": 2, \"bin_start\": 3711935.0, \"bin_end\": 4454322.0}, {\"count\": 1, \"bin_start\": 4454322.0, \"bin_end\": 5196709.0}, {\"count\": 2, \"bin_start\": 5196709.0, \"bin_end\": 5939096.0}, {\"count\": 0, \"bin_start\": 5939096.0, \"bin_end\": 6681483.0}, {\"count\": 1, \"bin_start\": 6681483.0, \"bin_end\": 7423870.0}], \"data-f285abcbb56444cce329a521b8d45630\": [{\"count\": 3989, \"bin_start\": 0.0, \"bin_end\": 16218716.8}, {\"count\": 4, \"bin_start\": 16218716.8, \"bin_end\": 32437433.6}, {\"count\": 1, \"bin_start\": 32437433.6, \"bin_end\": 48656150.400000006}, {\"count\": 1, \"bin_start\": 48656150.400000006, \"bin_end\": 64874867.2}, {\"count\": 2, \"bin_start\": 64874867.2, \"bin_end\": 81093584.0}, {\"count\": 1, \"bin_start\": 81093584.0, \"bin_end\": 97312300.80000001}, {\"count\": 0, \"bin_start\": 97312300.80000001, \"bin_end\": 113531017.60000001}, {\"count\": 0, \"bin_start\": 113531017.60000001, \"bin_end\": 129749734.4}, {\"count\": 1, \"bin_start\": 129749734.4, \"bin_end\": 145968451.20000002}, {\"count\": 1, \"bin_start\": 145968451.20000002, \"bin_end\": 162187168.0}], \"data-fe32c637068a92cb458bc594e4f90fe1\": [{\"count\": 3551, \"bin_start\": 0.0, \"bin_end\": 0.5}, {\"count\": 0, \"bin_start\": 0.5, \"bin_end\": 1.0}, {\"count\": 426, \"bin_start\": 1.0, \"bin_end\": 1.5}, {\"count\": 0, \"bin_start\": 1.5, \"bin_end\": 2.0}, {\"count\": 17, \"bin_start\": 2.0, \"bin_end\": 2.5}, {\"count\": 0, \"bin_start\": 2.5, \"bin_end\": 3.0}, {\"count\": 0, \"bin_start\": 3.0, \"bin_end\": 3.5}, {\"count\": 0, \"bin_start\": 3.5, \"bin_end\": 4.0}, {\"count\": 1, \"bin_start\": 4.0, \"bin_end\": 4.5}, {\"count\": 1, \"bin_start\": 4.5, \"bin_end\": 5.0}], \"data-b0cff4ffe052bc7fa283d5e48dbe317f\": [{\"count\": 3914, \"bin_start\": 0.0, \"bin_end\": 0.4}, {\"count\": 0, \"bin_start\": 0.4, \"bin_end\": 0.8}, {\"count\": 61, \"bin_start\": 0.8, \"bin_end\": 1.2000000000000002}, {\"count\": 0, \"bin_start\": 1.2000000000000002, \"bin_end\": 1.6}, {\"count\": 0, \"bin_start\": 1.6, \"bin_end\": 2.0}, {\"count\": 19, \"bin_start\": 2.0, \"bin_end\": 2.4000000000000004}, {\"count\": 0, \"bin_start\": 2.4000000000000004, \"bin_end\": 2.8000000000000003}, {\"count\": 5, \"bin_start\": 2.8000000000000003, \"bin_end\": 3.2}, {\"count\": 0, \"bin_start\": 3.2, \"bin_end\": 3.6}, {\"count\": 1, \"bin_start\": 3.6, \"bin_end\": 4.0}]}}, {\"mode\": \"vega-lite\"});\n",
       "</script>"
      ],
      "text/plain": [
       "alt.HConcatChart(...)"
      ]
     },
     "metadata": {},
     "output_type": "display_data"
    }
   ],
   "source": [
    "output_path = '/Users/rlopez/D3M/examples/tmp/'\n",
    "train_dataset = '/Users/rlopez/D3M/examples/credit_train.csv'\n",
    "test_dataset = '/Users/rlopez/D3M/examples/credit_test.csv'\n",
    "\n",
    "automl = AutoML(output_path, 'AlphaD3M')\n",
    "automl.plot_summary_dataset(train_dataset)"
   ]
  },
  {
   "cell_type": "code",
   "execution_count": 3,
   "metadata": {
    "scrolled": true
   },
   "outputs": [
    {
     "name": "stdout",
     "output_type": "stream",
     "text": [
      "INFO: Reiceving a raw dataset, converting to D3M format\n",
      "WARNING: Task keywords not defined, using: [classification, multiClass]\n",
      "WARNING: Metric not defined, using: accuracy\n",
      "INFO: Initializing NYU TA2...\n",
      "INFO: NYU TA2 initialized!\n",
      "INFO: Found pipeline, id=3340a0ae-e9d0-46ab-9afd-4f027400b953, accuracy=0.793, time=0:00:26.749123\n",
      "INFO: Found pipeline, id=b0e9a9ce-fa9a-40b1-ade8-9a467338606c, accuracy=0.79, time=0:00:44.954807\n",
      "INFO: Found pipeline, id=69ed0a9c-d534-47c9-aa01-41f29b505f47, accuracy=0.827, time=0:01:06.084196\n",
      "INFO: Found pipeline, id=cf42b613-27f1-4611-aa9e-101949280576, accuracy=0.823, time=0:01:30.380957\n",
      "INFO: Found pipeline, id=1e146bab-d61c-44a9-8115-3e309d2407cc, accuracy=0.718, time=0:01:45.495946\n",
      "INFO: Found pipeline, id=5a9f71d1-2f75-4e3d-8e66-c10321bff032, accuracy=0.824, time=0:02:06.562136\n",
      "INFO: Found pipeline, id=25f620b6-18ac-4d06-a97c-2d75aaf82784, accuracy=0.775, time=0:02:27.712013\n",
      "INFO: Found pipeline, id=8370b5c5-f312-4aad-9bfb-35e21a526f14, accuracy=0.817, time=0:02:48.943258\n",
      "INFO: Found pipeline, id=6792fd8a-b439-453c-8f01-c33387b1bea4, accuracy=0.65, time=0:03:07.060411\n",
      "INFO: Found pipeline, id=7542aeac-16eb-4a18-a13a-9f7b065107f9, accuracy=0.737, time=0:03:40.203170\n",
      "INFO: Found pipeline, id=0c2a317b-74ea-4143-b796-5b4949f07224, accuracy=0.776, time=0:03:58.402731\n",
      "INFO: Found pipeline, id=97a1b20e-6201-4ed6-89d2-ed74bb8344a6, accuracy=0.775, time=0:04:25.482575\n",
      "INFO: Found pipeline, id=414a69b4-9276-4810-a8ed-a1058f74e69a, accuracy=0.824, time=0:05:22.762671\n",
      "INFO: Found pipeline, id=f9320a63-68be-40aa-b639-91f59ead160b, accuracy=0.569, time=0:05:38.132740\n"
     ]
    }
   ],
   "source": [
    "automl.search_pipelines(train_dataset, time_bound=5, target='Loan Status')"
   ]
  },
  {
   "cell_type": "markdown",
   "metadata": {},
   "source": [
    "After the pipeline search is complete, we can display the leaderboard:"
   ]
  },
  {
   "cell_type": "code",
   "execution_count": 4,
   "metadata": {},
   "outputs": [
    {
     "data": {
      "text/html": [
       "<div>\n",
       "<style scoped>\n",
       "    .dataframe tbody tr th:only-of-type {\n",
       "        vertical-align: middle;\n",
       "    }\n",
       "\n",
       "    .dataframe tbody tr th {\n",
       "        vertical-align: top;\n",
       "    }\n",
       "\n",
       "    .dataframe thead th {\n",
       "        text-align: right;\n",
       "    }\n",
       "</style>\n",
       "<table border=\"1\" class=\"dataframe\">\n",
       "  <thead>\n",
       "    <tr style=\"text-align: right;\">\n",
       "      <th></th>\n",
       "      <th>ranking</th>\n",
       "      <th>id</th>\n",
       "      <th>summary</th>\n",
       "      <th>accuracy</th>\n",
       "    </tr>\n",
       "  </thead>\n",
       "  <tbody>\n",
       "    <tr>\n",
       "      <th>0</th>\n",
       "      <td>1</td>\n",
       "      <td>69ed0a9c-d534-47c9-aa01-41f29b505f47</td>\n",
       "      <td>add_semantic_types.common, imputer.sklearn, encoder.distiltextencoder, encoder.dsbox, robust_scaler.sklearn, gradient_boosting.sklearn</td>\n",
       "      <td>0.827</td>\n",
       "    </tr>\n",
       "    <tr>\n",
       "      <th>1</th>\n",
       "      <td>2</td>\n",
       "      <td>5a9f71d1-2f75-4e3d-8e66-c10321bff032</td>\n",
       "      <td>add_semantic_types.common, encoder.distiltextencoder, encoder.dsbox, robust_scaler.sklearn, imputer.sklearn, ada_boost.sklearn</td>\n",
       "      <td>0.824</td>\n",
       "    </tr>\n",
       "    <tr>\n",
       "      <th>2</th>\n",
       "      <td>3</td>\n",
       "      <td>414a69b4-9276-4810-a8ed-a1058f74e69a</td>\n",
       "      <td>add_semantic_types.common, encoder.distiltextencoder, encoder.dsbox, robust_scaler.sklearn, imputer.sklearn, ada_boost.sklearn</td>\n",
       "      <td>0.824</td>\n",
       "    </tr>\n",
       "    <tr>\n",
       "      <th>3</th>\n",
       "      <td>4</td>\n",
       "      <td>cf42b613-27f1-4611-aa9e-101949280576</td>\n",
       "      <td>add_semantic_types.common, imputer.sklearn, encoder.distiltextencoder, encoder.dsbox, robust_scaler.sklearn, linear_svc.sklearn</td>\n",
       "      <td>0.823</td>\n",
       "    </tr>\n",
       "    <tr>\n",
       "      <th>4</th>\n",
       "      <td>5</td>\n",
       "      <td>8370b5c5-f312-4aad-9bfb-35e21a526f14</td>\n",
       "      <td>add_semantic_types.common, encoder.distiltextencoder, encoder.dsbox, robust_scaler.sklearn, imputer.sklearn, linear_svc.sklearn</td>\n",
       "      <td>0.817</td>\n",
       "    </tr>\n",
       "    <tr>\n",
       "      <th>5</th>\n",
       "      <td>6</td>\n",
       "      <td>3340a0ae-e9d0-46ab-9afd-4f027400b953</td>\n",
       "      <td>add_semantic_types.common, imputer.sklearn, encoder.distiltextencoder, encoder.dsbox, robust_scaler.sklearn, random_forest.sklearn</td>\n",
       "      <td>0.793</td>\n",
       "    </tr>\n",
       "    <tr>\n",
       "      <th>6</th>\n",
       "      <td>7</td>\n",
       "      <td>b0e9a9ce-fa9a-40b1-ade8-9a467338606c</td>\n",
       "      <td>add_semantic_types.common, imputer.sklearn, encoder.distiltextencoder, encoder.dsbox, robust_scaler.sklearn, extra_trees.sklearn</td>\n",
       "      <td>0.790</td>\n",
       "    </tr>\n",
       "    <tr>\n",
       "      <th>7</th>\n",
       "      <td>8</td>\n",
       "      <td>0c2a317b-74ea-4143-b796-5b4949f07224</td>\n",
       "      <td>add_semantic_types.common, encoder.distiltextencoder, encoder.dsbox, robust_scaler.sklearn, imputer.sklearn, extra_trees.sklearn</td>\n",
       "      <td>0.776</td>\n",
       "    </tr>\n",
       "    <tr>\n",
       "      <th>8</th>\n",
       "      <td>9</td>\n",
       "      <td>25f620b6-18ac-4d06-a97c-2d75aaf82784</td>\n",
       "      <td>add_semantic_types.common, encoder.distiltextencoder, encoder.dsbox, robust_scaler.sklearn, imputer.sklearn, bernoulli_naive_bayes.sklearn</td>\n",
       "      <td>0.775</td>\n",
       "    </tr>\n",
       "    <tr>\n",
       "      <th>9</th>\n",
       "      <td>10</td>\n",
       "      <td>97a1b20e-6201-4ed6-89d2-ed74bb8344a6</td>\n",
       "      <td>add_semantic_types.common, encoder.distiltextencoder, encoder.dsbox, robust_scaler.sklearn, imputer.sklearn, joint_mutual_information.autorpi, bernoulli_naive_bayes.sklearn</td>\n",
       "      <td>0.775</td>\n",
       "    </tr>\n",
       "    <tr>\n",
       "      <th>10</th>\n",
       "      <td>11</td>\n",
       "      <td>7542aeac-16eb-4a18-a13a-9f7b065107f9</td>\n",
       "      <td>add_semantic_types.common, encoder.distiltextencoder, encoder.dsbox, robust_scaler.sklearn, imputer.sklearn, decision_tree.sklearn</td>\n",
       "      <td>0.737</td>\n",
       "    </tr>\n",
       "    <tr>\n",
       "      <th>11</th>\n",
       "      <td>12</td>\n",
       "      <td>1e146bab-d61c-44a9-8115-3e309d2407cc</td>\n",
       "      <td>add_semantic_types.common, imputer.sklearn, encoder.distiltextencoder, encoder.dsbox, robust_scaler.sklearn, sgd.sklearn</td>\n",
       "      <td>0.718</td>\n",
       "    </tr>\n",
       "    <tr>\n",
       "      <th>12</th>\n",
       "      <td>13</td>\n",
       "      <td>6792fd8a-b439-453c-8f01-c33387b1bea4</td>\n",
       "      <td>add_semantic_types.common, encoder.distiltextencoder, encoder.dsbox, robust_scaler.sklearn, imputer.sklearn, passive_aggressive.sklearn</td>\n",
       "      <td>0.650</td>\n",
       "    </tr>\n",
       "    <tr>\n",
       "      <th>13</th>\n",
       "      <td>14</td>\n",
       "      <td>f9320a63-68be-40aa-b639-91f59ead160b</td>\n",
       "      <td>add_semantic_types.common, encoder.distiltextencoder, encoder.dsbox, robust_scaler.sklearn, imputer.sklearn, linear_svc.sklearn</td>\n",
       "      <td>0.569</td>\n",
       "    </tr>\n",
       "  </tbody>\n",
       "</table>\n",
       "</div>"
      ],
      "text/plain": [
       "    ranking                                    id  \\\n",
       "0         1  69ed0a9c-d534-47c9-aa01-41f29b505f47   \n",
       "1         2  5a9f71d1-2f75-4e3d-8e66-c10321bff032   \n",
       "2         3  414a69b4-9276-4810-a8ed-a1058f74e69a   \n",
       "3         4  cf42b613-27f1-4611-aa9e-101949280576   \n",
       "4         5  8370b5c5-f312-4aad-9bfb-35e21a526f14   \n",
       "5         6  3340a0ae-e9d0-46ab-9afd-4f027400b953   \n",
       "6         7  b0e9a9ce-fa9a-40b1-ade8-9a467338606c   \n",
       "7         8  0c2a317b-74ea-4143-b796-5b4949f07224   \n",
       "8         9  25f620b6-18ac-4d06-a97c-2d75aaf82784   \n",
       "9        10  97a1b20e-6201-4ed6-89d2-ed74bb8344a6   \n",
       "10       11  7542aeac-16eb-4a18-a13a-9f7b065107f9   \n",
       "11       12  1e146bab-d61c-44a9-8115-3e309d2407cc   \n",
       "12       13  6792fd8a-b439-453c-8f01-c33387b1bea4   \n",
       "13       14  f9320a63-68be-40aa-b639-91f59ead160b   \n",
       "\n",
       "                                                                                                                                                                         summary  \\\n",
       "0                                         add_semantic_types.common, imputer.sklearn, encoder.distiltextencoder, encoder.dsbox, robust_scaler.sklearn, gradient_boosting.sklearn   \n",
       "1                                                 add_semantic_types.common, encoder.distiltextencoder, encoder.dsbox, robust_scaler.sklearn, imputer.sklearn, ada_boost.sklearn   \n",
       "2                                                 add_semantic_types.common, encoder.distiltextencoder, encoder.dsbox, robust_scaler.sklearn, imputer.sklearn, ada_boost.sklearn   \n",
       "3                                                add_semantic_types.common, imputer.sklearn, encoder.distiltextencoder, encoder.dsbox, robust_scaler.sklearn, linear_svc.sklearn   \n",
       "4                                                add_semantic_types.common, encoder.distiltextencoder, encoder.dsbox, robust_scaler.sklearn, imputer.sklearn, linear_svc.sklearn   \n",
       "5                                             add_semantic_types.common, imputer.sklearn, encoder.distiltextencoder, encoder.dsbox, robust_scaler.sklearn, random_forest.sklearn   \n",
       "6                                               add_semantic_types.common, imputer.sklearn, encoder.distiltextencoder, encoder.dsbox, robust_scaler.sklearn, extra_trees.sklearn   \n",
       "7                                               add_semantic_types.common, encoder.distiltextencoder, encoder.dsbox, robust_scaler.sklearn, imputer.sklearn, extra_trees.sklearn   \n",
       "8                                     add_semantic_types.common, encoder.distiltextencoder, encoder.dsbox, robust_scaler.sklearn, imputer.sklearn, bernoulli_naive_bayes.sklearn   \n",
       "9   add_semantic_types.common, encoder.distiltextencoder, encoder.dsbox, robust_scaler.sklearn, imputer.sklearn, joint_mutual_information.autorpi, bernoulli_naive_bayes.sklearn   \n",
       "10                                            add_semantic_types.common, encoder.distiltextencoder, encoder.dsbox, robust_scaler.sklearn, imputer.sklearn, decision_tree.sklearn   \n",
       "11                                                      add_semantic_types.common, imputer.sklearn, encoder.distiltextencoder, encoder.dsbox, robust_scaler.sklearn, sgd.sklearn   \n",
       "12                                       add_semantic_types.common, encoder.distiltextencoder, encoder.dsbox, robust_scaler.sklearn, imputer.sklearn, passive_aggressive.sklearn   \n",
       "13                                               add_semantic_types.common, encoder.distiltextencoder, encoder.dsbox, robust_scaler.sklearn, imputer.sklearn, linear_svc.sklearn   \n",
       "\n",
       "    accuracy  \n",
       "0      0.827  \n",
       "1      0.824  \n",
       "2      0.824  \n",
       "3      0.823  \n",
       "4      0.817  \n",
       "5      0.793  \n",
       "6      0.790  \n",
       "7      0.776  \n",
       "8      0.775  \n",
       "9      0.775  \n",
       "10     0.737  \n",
       "11     0.718  \n",
       "12     0.650  \n",
       "13     0.569  "
      ]
     },
     "execution_count": 4,
     "metadata": {},
     "output_type": "execute_result"
    }
   ],
   "source": [
    "automl.plot_leaderboard()"
   ]
  },
  {
   "cell_type": "markdown",
   "metadata": {},
   "source": [
    "Individual pipelines need to be trained with the full data. The training is done with the call:"
   ]
  },
  {
   "cell_type": "code",
   "execution_count": 5,
   "metadata": {},
   "outputs": [
    {
     "name": "stdout",
     "output_type": "stream",
     "text": [
      "INFO: Training model...\n",
      "INFO: Training finished!\n"
     ]
    }
   ],
   "source": [
    "model_id = automl.train('69ed0a9c-d534-47c9-aa01-41f29b505f47')"
   ]
  },
  {
   "cell_type": "markdown",
   "metadata": {},
   "source": [
    "Pipeline predictions are accessed with:"
   ]
  },
  {
   "cell_type": "code",
   "execution_count": 6,
   "metadata": {},
   "outputs": [
    {
     "name": "stdout",
     "output_type": "stream",
     "text": [
      "INFO: Reiceving a raw dataset, converting to D3M format\n",
      "INFO: Testing model...\n",
      "INFO: Testing finished!\n"
     ]
    },
    {
     "data": {
      "text/html": [
       "<div>\n",
       "<style scoped>\n",
       "    .dataframe tbody tr th:only-of-type {\n",
       "        vertical-align: middle;\n",
       "    }\n",
       "\n",
       "    .dataframe tbody tr th {\n",
       "        vertical-align: top;\n",
       "    }\n",
       "\n",
       "    .dataframe thead th {\n",
       "        text-align: right;\n",
       "    }\n",
       "</style>\n",
       "<table border=\"1\" class=\"dataframe\">\n",
       "  <thead>\n",
       "    <tr style=\"text-align: right;\">\n",
       "      <th></th>\n",
       "      <th>d3mIndex</th>\n",
       "      <th>Loan Status</th>\n",
       "    </tr>\n",
       "  </thead>\n",
       "  <tbody>\n",
       "    <tr>\n",
       "      <th>0</th>\n",
       "      <td>0</td>\n",
       "      <td>Fully Paid</td>\n",
       "    </tr>\n",
       "    <tr>\n",
       "      <th>1</th>\n",
       "      <td>1</td>\n",
       "      <td>Fully Paid</td>\n",
       "    </tr>\n",
       "    <tr>\n",
       "      <th>2</th>\n",
       "      <td>10</td>\n",
       "      <td>Fully Paid</td>\n",
       "    </tr>\n",
       "    <tr>\n",
       "      <th>3</th>\n",
       "      <td>100</td>\n",
       "      <td>Charged Off</td>\n",
       "    </tr>\n",
       "    <tr>\n",
       "      <th>4</th>\n",
       "      <td>1000</td>\n",
       "      <td>Fully Paid</td>\n",
       "    </tr>\n",
       "    <tr>\n",
       "      <th>...</th>\n",
       "      <td>...</td>\n",
       "      <td>...</td>\n",
       "    </tr>\n",
       "    <tr>\n",
       "      <th>1753</th>\n",
       "      <td>995</td>\n",
       "      <td>Fully Paid</td>\n",
       "    </tr>\n",
       "    <tr>\n",
       "      <th>1754</th>\n",
       "      <td>996</td>\n",
       "      <td>Fully Paid</td>\n",
       "    </tr>\n",
       "    <tr>\n",
       "      <th>1755</th>\n",
       "      <td>997</td>\n",
       "      <td>Fully Paid</td>\n",
       "    </tr>\n",
       "    <tr>\n",
       "      <th>1756</th>\n",
       "      <td>998</td>\n",
       "      <td>Fully Paid</td>\n",
       "    </tr>\n",
       "    <tr>\n",
       "      <th>1757</th>\n",
       "      <td>999</td>\n",
       "      <td>Fully Paid</td>\n",
       "    </tr>\n",
       "  </tbody>\n",
       "</table>\n",
       "<p>1758 rows × 2 columns</p>\n",
       "</div>"
      ],
      "text/plain": [
       "      d3mIndex  Loan Status\n",
       "0            0   Fully Paid\n",
       "1            1   Fully Paid\n",
       "2           10   Fully Paid\n",
       "3          100  Charged Off\n",
       "4         1000   Fully Paid\n",
       "...        ...          ...\n",
       "1753       995   Fully Paid\n",
       "1754       996   Fully Paid\n",
       "1755       997   Fully Paid\n",
       "1756       998   Fully Paid\n",
       "1757       999   Fully Paid\n",
       "\n",
       "[1758 rows x 2 columns]"
      ]
     },
     "execution_count": 6,
     "metadata": {},
     "output_type": "execute_result"
    }
   ],
   "source": [
    "predictions = automl.test(model_id, test_dataset)\n",
    "predictions"
   ]
  },
  {
   "cell_type": "markdown",
   "metadata": {},
   "source": [
    "The pipeline can be evaluated against a held out dataset with the function call:"
   ]
  },
  {
   "cell_type": "code",
   "execution_count": 7,
   "metadata": {},
   "outputs": [
    {
     "name": "stdout",
     "output_type": "stream",
     "text": [
      "INFO: Reiceving a raw dataset, converting to D3M format\n"
     ]
    },
    {
     "data": {
      "text/plain": [
       "('accuracy', 0.82651)"
      ]
     },
     "execution_count": 7,
     "metadata": {},
     "output_type": "execute_result"
    }
   ],
   "source": [
    "automl.score('69ed0a9c-d534-47c9-aa01-41f29b505f47', test_dataset)"
   ]
  },
  {
   "cell_type": "markdown",
   "metadata": {},
   "source": [
    "### Generating pipelines for OpenML datasets"
   ]
  },
  {
   "cell_type": "markdown",
   "metadata": {},
   "source": [
    "In this example, we are generating pipelines for OpenML datasets. The [German Credit dataset](https://www.openml.org/d/31) is used for this example. \n",
    "This dataset classifies people described by a set of attributes as good or bad credit risks.\n",
    "<div class=\"alert alert-info\"><b>Important</b>\n",
    "    \n",
    "Note that the path to the dataset directories must be an absolute path and not a relative path. \n",
    "</div>"
   ]
  },
  {
   "cell_type": "code",
   "execution_count": 9,
   "metadata": {},
   "outputs": [
    {
     "name": "stdout",
     "output_type": "stream",
     "text": [
      "INFO: Reiceving a raw dataset, converting to D3M format\n",
      "WARNING: Task keywords not defined, using: [classification, multiClass]\n",
      "DEBUG: Data pickle file already exists and is up to date.\n",
      "INFO: Initializing NYU TA2...\n",
      "INFO: NYU TA2 initialized!\n",
      "INFO: Found pipeline, id=e334e21c-022a-440c-957e-8c608b69fea9, f1_macro=0.64148, time=0:00:23.835888\n",
      "INFO: Found pipeline, id=1986142d-11b5-4bf5-849c-abe6f3ba6693, f1_macro=0.63608, time=0:00:45.034725\n",
      "INFO: Found pipeline, id=c687c324-04ca-4514-a151-fc8103078f62, f1_macro=0.71179, time=0:01:06.215613\n"
     ]
    }
   ],
   "source": [
    "output_path = '/Users/rlopez/D3M/examples/tmp/'\n",
    "train_dataset = 'https://www.openml.org/d/31' # credit risks dataset\n",
    "automl = AutoML(output_path, 'AlphaD3M')\n",
    "automl.search_pipelines(train_dataset, time_bound=1, target='class', metric='f1Macro')"
   ]
  },
  {
   "cell_type": "markdown",
   "metadata": {},
   "source": [
    "### Generating pipelines for Sklearn datasets"
   ]
  },
  {
   "cell_type": "markdown",
   "metadata": {},
   "source": [
    "In this example, we are generating pipelines for Sklearn datasets. The [Diabetes dataset](https://scikit-learn.org/stable/modules/generated/sklearn.datasets.load_diabetes.html) is used for this example. \n",
    "The diabetes dataset consists of 10 physiological variables and an indication of disease progression after one year.\n",
    "<div class=\"alert alert-info\"><b>Important</b>\n",
    "    \n",
    "Note that the path to the dataset directories must be an absolute path and not a relative path. \n",
    "</div>"
   ]
  },
  {
   "cell_type": "code",
   "execution_count": 9,
   "metadata": {},
   "outputs": [
    {
     "name": "stdout",
     "output_type": "stream",
     "text": [
      "INFO: Reiceving a raw dataset, converting to D3M format\n",
      "WARNING: Metric not defined, using: rootMeanSquaredError\n",
      "INFO: Initializing NYU TA2...\n",
      "INFO: NYU TA2 initialized!\n",
      "INFO: Found pipeline, id=0e5cc36a-b6fd-4922-bb80-8369f70bcd23, root_mean_squared_error=60.75112, time=0:00:14.181106\n",
      "INFO: Found pipeline, id=5771e5cf-6442-4389-95e4-08691604afd6, root_mean_squared_error=60.36269, time=0:00:26.286293\n",
      "INFO: Found pipeline, id=95f49c0c-1d82-4ba4-bd29-3ceb82725f13, root_mean_squared_error=56.78704, time=0:00:38.394248\n",
      "INFO: Found pipeline, id=366032d8-fd2e-455c-9bde-eb21b6ccec34, root_mean_squared_error=62.1996, time=0:00:50.511736\n",
      "INFO: Found pipeline, id=6b739b04-14d0-4c97-9529-11b2c19cbb3c, root_mean_squared_error=56.68418, time=0:01:02.608088\n"
     ]
    }
   ],
   "source": [
    "from sklearn.datasets import load_diabetes\n",
    "output_path = '/Users/rlopez/D3M/examples/tmp/'\n",
    "train_dataset = load_diabetes\n",
    "automl = AutoML(output_path, 'AlphaD3M')\n",
    "automl.search_pipelines(train_dataset, time_bound=1, target='column 10', task_keywords=['regression'])"
   ]
  },
  {
   "cell_type": "markdown",
   "metadata": {},
   "source": [
    "### Visualizing pipelines using Pipeline Profiler"
   ]
  },
  {
   "cell_type": "markdown",
   "metadata": {},
   "source": [
    "In order to explore the produced pipelines, we can use [PipelineProfiler](https://github.com/VIDA-NYU/PipelineVis). PipelineProfiler is a visualization that enables users to compare and explore the pipelines generated by the AutoML systems.\n",
    "\n",
    "After the pipeline search process is completed, we can use PipelineProfiler with:"
   ]
  },
  {
   "cell_type": "code",
   "execution_count": 10,
   "metadata": {},
   "outputs": [
    {
     "name": "stdout",
     "output_type": "stream",
     "text": [
      "INFO: Inputs for PipelineProfiler created!\n"
     ]
    }
   ],
   "source": [
    "automl.plot_comparison_pipelines()"
   ]
  },
  {
   "cell_type": "markdown",
   "metadata": {},
   "source": [
    "After the analysis is complete, end the session to stop the Docker container and clean up temporary files:"
   ]
  },
  {
   "cell_type": "code",
   "execution_count": 15,
   "metadata": {},
   "outputs": [
    {
     "name": "stdout",
     "output_type": "stream",
     "text": [
      "INFO: Ending session...\n",
      "INFO: Session ended!\n"
     ]
    }
   ],
   "source": [
    "automl.end_session()"
   ]
  }
 ],
 "metadata": {
  "kernelspec": {
   "display_name": "Python 3",
   "language": "python",
   "name": "python3"
  },
  "language_info": {
   "codemirror_mode": {
    "name": "ipython",
    "version": 3
   },
   "file_extension": ".py",
   "mimetype": "text/x-python",
   "name": "python",
   "nbconvert_exporter": "python",
   "pygments_lexer": "ipython3",
   "version": "3.7.4"
  }
 },
 "nbformat": 4,
 "nbformat_minor": 2
}
