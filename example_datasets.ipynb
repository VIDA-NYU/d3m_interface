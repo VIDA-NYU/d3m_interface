{
 "cells": [
  {
   "cell_type": "code",
   "execution_count": 5,
   "metadata": {},
   "outputs": [],
   "source": [
    "from d3m_interface import Automl\n",
    "import PipelineProfiler"
   ]
  },
  {
   "cell_type": "markdown",
   "metadata": {},
   "source": [
    "### Generating pipelines for CSV datasets"
   ]
  },
  {
   "cell_type": "code",
   "execution_count": null,
   "metadata": {},
   "outputs": [],
   "source": [
    "output_path = '/Users/rlopez/D3M/examples/tmp/'\n",
    "train_dataset = '/Users/rlopez/D3M/examples/credit_train.csv'\n",
    "test_dataset = '/Users/rlopez/D3M/examples/credit_test.csv'\n",
    "\n",
    "automl = Automl(output_path, 'NYU')\n",
    "pipelines = automl.search_pipelines(train_dataset, time_bound=1, target='Loan Status')"
   ]
  },
  {
   "cell_type": "code",
   "execution_count": null,
   "metadata": {},
   "outputs": [],
   "source": [
    "automl.leaderboard"
   ]
  },
  {
   "cell_type": "markdown",
   "metadata": {},
   "source": [
    "### Generating pipelines for OpenML datasets"
   ]
  },
  {
   "cell_type": "code",
   "execution_count": 9,
   "metadata": {},
   "outputs": [
    {
     "name": "stdout",
     "output_type": "stream",
     "text": [
      "INFO: Reiceving a raw dataset, converting to D3M format\n",
      "WARNING: Task keywords not defined, using: [classification, multiClass]\n",
      "DEBUG: Data pickle file already exists and is up to date.\n",
      "INFO: Initializing NYU TA2...\n",
      "INFO: NYU TA2 initialized!\n",
      "INFO: Found pipeline, id=e334e21c-022a-440c-957e-8c608b69fea9, f1_macro=0.64148, time=0:00:23.835888\n",
      "INFO: Found pipeline, id=1986142d-11b5-4bf5-849c-abe6f3ba6693, f1_macro=0.63608, time=0:00:45.034725\n",
      "INFO: Found pipeline, id=c687c324-04ca-4514-a151-fc8103078f62, f1_macro=0.71179, time=0:01:06.215613\n"
     ]
    }
   ],
   "source": [
    "output_path = '/Users/rlopez/D3M/examples/tmp/'\n",
    "train_dataset = 'https://www.openml.org/d/31' # credit risks dataset\n",
    "automl = Automl(output_path, 'NYU')\n",
    "pipelines = automl.search_pipelines(train_dataset, time_bound=1, target='class', metric='f1Macro')"
   ]
  },
  {
   "cell_type": "markdown",
   "metadata": {},
   "source": [
    "### Generating pipelines for Sklearn datasets"
   ]
  },
  {
   "cell_type": "code",
   "execution_count": 9,
   "metadata": {},
   "outputs": [
    {
     "name": "stdout",
     "output_type": "stream",
     "text": [
      "INFO: Reiceving a raw dataset, converting to D3M format\n",
      "WARNING: Metric not defined, using: rootMeanSquaredError\n",
      "INFO: Initializing NYU TA2...\n",
      "INFO: NYU TA2 initialized!\n",
      "INFO: Found pipeline, id=0e5cc36a-b6fd-4922-bb80-8369f70bcd23, root_mean_squared_error=60.75112, time=0:00:14.181106\n",
      "INFO: Found pipeline, id=5771e5cf-6442-4389-95e4-08691604afd6, root_mean_squared_error=60.36269, time=0:00:26.286293\n",
      "INFO: Found pipeline, id=95f49c0c-1d82-4ba4-bd29-3ceb82725f13, root_mean_squared_error=56.78704, time=0:00:38.394248\n",
      "INFO: Found pipeline, id=366032d8-fd2e-455c-9bde-eb21b6ccec34, root_mean_squared_error=62.1996, time=0:00:50.511736\n",
      "INFO: Found pipeline, id=6b739b04-14d0-4c97-9529-11b2c19cbb3c, root_mean_squared_error=56.68418, time=0:01:02.608088\n"
     ]
    }
   ],
   "source": [
    "from sklearn.datasets import load_diabetes\n",
    "output_path = '/Users/rlopez/D3M/examples/tmp/'\n",
    "train_dataset = load_diabetes\n",
    "automl = Automl(output_path, 'NYU')\n",
    "pipelines = automl.search_pipelines(train_dataset, time_bound=1, target='column 10', task_keywords=['regression'])"
   ]
  },
  {
   "cell_type": "code",
   "execution_count": null,
   "metadata": {},
   "outputs": [],
   "source": [
    "profiler_inputs = automl.create_profiler_inputs()"
   ]
  },
  {
   "cell_type": "code",
   "execution_count": null,
   "metadata": {},
   "outputs": [],
   "source": [
    "PipelineProfiler.plot_pipeline_matrix(profiler_inputs)"
   ]
  },
  {
   "cell_type": "code",
   "execution_count": 15,
   "metadata": {},
   "outputs": [
    {
     "name": "stdout",
     "output_type": "stream",
     "text": [
      "INFO: Ending session...\n",
      "INFO: Session ended!\n"
     ]
    }
   ],
   "source": [
    "automl.end_session()"
   ]
  },
  {
   "cell_type": "code",
   "execution_count": null,
   "metadata": {},
   "outputs": [],
   "source": []
  }
 ],
 "metadata": {
  "kernelspec": {
   "display_name": "Python 3",
   "language": "python",
   "name": "python3"
  },
  "language_info": {
   "codemirror_mode": {
    "name": "ipython",
    "version": 3
   },
   "file_extension": ".py",
   "mimetype": "text/x-python",
   "name": "python",
   "nbconvert_exporter": "python",
   "pygments_lexer": "ipython3",
   "version": "3.6.5"
  }
 },
 "nbformat": 4,
 "nbformat_minor": 2
}
